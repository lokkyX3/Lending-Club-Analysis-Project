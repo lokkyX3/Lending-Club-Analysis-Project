{
  "nbformat": 4,
  "nbformat_minor": 0,
  "metadata": {
    "colab": {
      "name": "Lending Club.ipynb",
      "provenance": [],
      "collapsed_sections": [
        "2fAWv_qcMDPh",
        "KQVXBYZUFAcX"
      ],
      "authorship_tag": "ABX9TyMWGq7GpeoBbQ4vOVPajJ3E",
      "include_colab_link": true
    },
    "kernelspec": {
      "name": "python3",
      "display_name": "Python 3"
    },
    "language_info": {
      "name": "python"
    },
    "accelerator": "TPU"
  },
  "cells": [
    {
      "cell_type": "markdown",
      "metadata": {
        "id": "view-in-github",
        "colab_type": "text"
      },
      "source": [
        "<a href=\"https://colab.research.google.com/github/lokkyX3/Lending-Club-Analysis-Project/blob/main/Lending_Club.ipynb\" target=\"_parent\"><img src=\"https://colab.research.google.com/assets/colab-badge.svg\" alt=\"Open In Colab\"/></a>"
      ]
    },
    {
      "cell_type": "markdown",
      "metadata": {
        "id": "u7xfD4RN37YI"
      },
      "source": [
        "# **The EDA**\n",
        "\n",
        "---\n",
        "\n",
        "**Loading packages and data**"
      ]
    },
    {
      "cell_type": "code",
      "metadata": {
        "id": "B1YTIHN19tys"
      },
      "source": [
        "#@title\n",
        "import pandas as pd\n",
        "import numpy as np\n",
        "import matplotlib.pyplot as plt\n",
        "import seaborn as sns\n",
        "\n",
        "import tensorflow as tf\n",
        "from sklearn.impute import KNNImputer\n",
        "from sklearn.model_selection import train_test_split\n",
        "from tensorflow.keras.models import Sequential\n",
        "from tensorflow.keras.layers import Dense,Dropout\n",
        "from tensorflow.keras.callbacks import EarlyStopping\n",
        "from sklearn.preprocessing import MinMaxScaler\n",
        "from sklearn.metrics import classification_report,confusion_matrix\n",
        "\n",
        "\n",
        "from google.colab import drive\n",
        "drive.mount('/content/drive')\n",
        "\n",
        "plt.style.use('seaborn')"
      ],
      "execution_count": null,
      "outputs": []
    },
    {
      "cell_type": "code",
      "metadata": {
        "id": "ubDDJKuY9tyt"
      },
      "source": [
        "df = pd.read_csv('/content/drive/My Drive/Colab Notebooks/NN and DL Udemy/DATA/lending_club_loan_two.csv')"
      ],
      "execution_count": 52,
      "outputs": []
    },
    {
      "cell_type": "markdown",
      "metadata": {
        "id": "rJowc81v2BMo"
      },
      "source": [
        "**What kind of features we had in this dataset?**"
      ]
    },
    {
      "cell_type": "markdown",
      "metadata": {
        "id": "oFuqoMpW6Vzs"
      },
      "source": [
        "Note: For feature descriptions, please refer to Read Me."
      ]
    },
    {
      "cell_type": "code",
      "metadata": {
        "id": "C77P_1BtgyTu"
      },
      "source": [
        "df.info(verbose=True, null_counts=True)"
      ],
      "execution_count": null,
      "outputs": []
    },
    {
      "cell_type": "code",
      "metadata": {
        "id": "9TbQqVRTiQW5"
      },
      "source": [
        "df.describe().T"
      ],
      "execution_count": null,
      "outputs": []
    },
    {
      "cell_type": "markdown",
      "metadata": {
        "id": "6rSVO6X82nbf"
      },
      "source": [
        "Since this is a classification problem, we should find out distribution of the label feature."
      ]
    },
    {
      "cell_type": "code",
      "metadata": {
        "id": "yxOCyCAknEHS",
        "colab": {
          "base_uri": "https://localhost:8080/",
          "height": 378
        },
        "outputId": "0e3c932c-3ba9-4bbd-d94d-028a9ff84db6"
      },
      "source": [
        "sns.countplot(x='loan_status',data=df)"
      ],
      "execution_count": null,
      "outputs": [
        {
          "output_type": "execute_result",
          "data": {
            "text/plain": [
              "<matplotlib.axes._subplots.AxesSubplot at 0x7fc1a17494d0>"
            ]
          },
          "metadata": {
            "tags": []
          },
          "execution_count": 57
        },
        {
          "output_type": "display_data",
          "data": {
            "image/png": "[encoded data removed]",
            "text/plain": [
              "<Figure size 576x396 with 1 Axes>"
            ]
          },
          "metadata": {
            "tags": []
          }
        }
      ]
    },
    {
      "cell_type": "markdown",
      "metadata": {
        "id": "Gb63gjcs4jYk"
      },
      "source": [
        "Note: This is a highly imbalanced dataset as there are alot more 'Fully Paid' than 'Charged Off' entries. Very similar situation with those of fraud and spam cases."
      ]
    },
    {
      "cell_type": "code",
      "metadata": {
        "id": "GaEW1LMsnQcQ",
        "colab": {
          "base_uri": "https://localhost:8080/",
          "height": 282
        },
        "outputId": "36e82eff-9318-43df-f7b5-1542c2900320"
      },
      "source": [
        "plt.figure(figsize=(12, 4))\n",
        "df['loan_amnt'].plot.hist(bins=40)"
      ],
      "execution_count": null,
      "outputs": [
        {
          "output_type": "execute_result",
          "data": {
            "text/plain": [
              "<matplotlib.axes._subplots.AxesSubplot at 0x7fc1a1c34e90>"
            ]
          },
          "metadata": {
            "tags": []
          },
          "execution_count": 58
        },
        {
          "output_type": "display_data",
          "data": {
            "image/png": "[encoded data removed]",
            "text/plain": [
              "<Figure size 864x288 with 1 Axes>"
            ]
          },
          "metadata": {
            "tags": []
          }
        }
      ]
    },
    {
      "cell_type": "markdown",
      "metadata": {
        "id": "nnFfCaskC5mQ"
      },
      "source": [
        "Note: Loan amount spike happening at even number. Which probably are the standard amount loans (e.g 10k, 15k, 20k...)"
      ]
    },
    {
      "cell_type": "code",
      "metadata": {
        "id": "-fSQpWI2-m46"
      },
      "source": [
        "sns.pairplot(df[['loan_amnt','int_rate','installment','loan_status']].sample(1000),hue='loan_status')"
      ],
      "execution_count": null,
      "outputs": []
    },
    {
      "cell_type": "markdown",
      "metadata": {
        "id": "fHNBFiUG85or"
      },
      "source": [
        "**Correlation**\n",
        "\n",
        "Next, lets take a  look at the correlation between these continuous attributes"
      ]
    },
    {
      "cell_type": "code",
      "metadata": {
        "id": "mHyJrOttqoEL",
        "colab": {
          "base_uri": "https://localhost:8080/",
          "height": 483
        },
        "outputId": "71e094e5-f85c-4385-ad62-5c9faf2f51bd"
      },
      "source": [
        "plt.figure(figsize=(10, 6))\n",
        "sns.heatmap(df.corr(),annot=True,cmap='viridis')"
      ],
      "execution_count": null,
      "outputs": [
        {
          "output_type": "execute_result",
          "data": {
            "text/plain": [
              "<matplotlib.axes._subplots.AxesSubplot at 0x7fc1a4520dd0>"
            ]
          },
          "metadata": {
            "tags": []
          },
          "execution_count": 67
        },
        {
          "output_type": "display_data",
          "data": {
            "image/png": "[encoded data removed]",
            "text/plain": [
              "<Figure size 720x432 with 2 Axes>"
            ]
          },
          "metadata": {
            "tags": []
          }
        }
      ]
    },
    {
      "cell_type": "markdown",
      "metadata": {
        "id": "BLuG32mdFSfH"
      },
      "source": [
        "Note: 'loan_amnt' and 'installment' had high correlation. A high correlation indicates the attributes are too similar to each other which might affect performance model. Let's plot it out"
      ]
    },
    {
      "cell_type": "code",
      "metadata": {
        "colab": {
          "base_uri": "https://localhost:8080/",
          "height": 378
        },
        "id": "LPGW7X_uuV4O",
        "outputId": "c4c80886-7c2b-4c7a-88e6-4793e5ef7e5d"
      },
      "source": [
        "sns.scatterplot(x='installment',y='loan_amnt',data=df,hue='loan_status')"
      ],
      "execution_count": null,
      "outputs": [
        {
          "output_type": "execute_result",
          "data": {
            "text/plain": [
              "<matplotlib.axes._subplots.AxesSubplot at 0x7fc1b3165590>"
            ]
          },
          "metadata": {
            "tags": []
          },
          "execution_count": 60
        },
        {
          "output_type": "display_data",
          "data": {
            "image/png": "[encoded data removed]",
            "text/plain": [
              "<Figure size 576x396 with 1 Axes>"
            ]
          },
          "metadata": {
            "tags": []
          }
        }
      ]
    },
    {
      "cell_type": "markdown",
      "metadata": {
        "id": "Ce7Uxf0iKEPR"
      },
      "source": [
        "They have a positive correlation where a higher loan will have a higher installment. This make sense as loan amount dictates the amount that had to be paid back monthly which is calculated based on certain formula. This explains the high correlation between this two attribute.  "
      ]
    },
    {
      "cell_type": "markdown",
      "metadata": {
        "id": "_dwhuolQNWLu"
      },
      "source": [
        "**Questions: Is there any relationship between 'loan_status' and 'loan_amnt'? \n",
        "(eg. higher amount loan are more likely to charge off)**"
      ]
    },
    {
      "cell_type": "code",
      "metadata": {
        "colab": {
          "base_uri": "https://localhost:8080/",
          "height": 510
        },
        "id": "hsTJQpVGu9eQ",
        "outputId": "99f51bcc-0606-4ab9-91ec-146e7b21c51c"
      },
      "source": [
        "sns.boxplot(x='loan_status',y='loan_amnt',data=df)\n",
        "df[['loan_amnt','loan_status']].groupby('loan_status').describe()"
      ],
      "execution_count": null,
      "outputs": [
        {
          "output_type": "execute_result",
          "data": {
            "text/html": [
              "<div>\n",
              "<style scoped>\n",
              "    .dataframe tbody tr th:only-of-type {\n",
              "        vertical-align: middle;\n",
              "    }\n",
              "\n",
              "    .dataframe tbody tr th {\n",
              "        vertical-align: top;\n",
              "    }\n",
              "\n",
              "    .dataframe thead tr th {\n",
              "        text-align: left;\n",
              "    }\n",
              "\n",
              "    .dataframe thead tr:last-of-type th {\n",
              "        text-align: right;\n",
              "    }\n",
              "</style>\n",
              "<table border=\"1\" class=\"dataframe\">\n",
              "  <thead>\n",
              "    <tr>\n",
              "      <th></th>\n",
              "      <th colspan=\"8\" halign=\"left\">loan_amnt</th>\n",
              "    </tr>\n",
              "    <tr>\n",
              "      <th></th>\n",
              "      <th>count</th>\n",
              "      <th>mean</th>\n",
              "      <th>std</th>\n",
              "      <th>min</th>\n",
              "      <th>25%</th>\n",
              "      <th>50%</th>\n",
              "      <th>75%</th>\n",
              "      <th>max</th>\n",
              "    </tr>\n",
              "    <tr>\n",
              "      <th>loan_status</th>\n",
              "      <th></th>\n",
              "      <th></th>\n",
              "      <th></th>\n",
              "      <th></th>\n",
              "      <th></th>\n",
              "      <th></th>\n",
              "      <th></th>\n",
              "      <th></th>\n",
              "    </tr>\n",
              "  </thead>\n",
              "  <tbody>\n",
              "    <tr>\n",
              "      <th>Charged Off</th>\n",
              "      <td>77673.0</td>\n",
              "      <td>15126.300967</td>\n",
              "      <td>8505.090557</td>\n",
              "      <td>1000.0</td>\n",
              "      <td>8525.0</td>\n",
              "      <td>14000.0</td>\n",
              "      <td>20000.0</td>\n",
              "      <td>40000.0</td>\n",
              "    </tr>\n",
              "    <tr>\n",
              "      <th>Fully Paid</th>\n",
              "      <td>318357.0</td>\n",
              "      <td>13866.878771</td>\n",
              "      <td>8302.319699</td>\n",
              "      <td>500.0</td>\n",
              "      <td>7500.0</td>\n",
              "      <td>12000.0</td>\n",
              "      <td>19225.0</td>\n",
              "      <td>40000.0</td>\n",
              "    </tr>\n",
              "  </tbody>\n",
              "</table>\n",
              "</div>"
            ],
            "text/plain": [
              "            loan_amnt                             ...                           \n",
              "                count          mean          std  ...      50%      75%      max\n",
              "loan_status                                       ...                           \n",
              "Charged Off   77673.0  15126.300967  8505.090557  ...  14000.0  20000.0  40000.0\n",
              "Fully Paid   318357.0  13866.878771  8302.319699  ...  12000.0  19225.0  40000.0\n",
              "\n",
              "[2 rows x 8 columns]"
            ]
          },
          "metadata": {
            "tags": []
          },
          "execution_count": 40
        },
        {
          "output_type": "display_data",
          "data": {
            "image/png": "[encoded data removed]",
            "text/plain": [
              "<Figure size 576x396 with 1 Axes>"
            ]
          },
          "metadata": {
            "tags": []
          }
        }
      ]
    },
    {
      "cell_type": "markdown",
      "metadata": {
        "id": "X5pzAc73PBFS"
      },
      "source": [
        "Note: Hmmm! They are quite similar. Although on average, charged back category have slightly higher amount of loan compared to its counterpart."
      ]
    },
    {
      "cell_type": "markdown",
      "metadata": {
        "id": "XIS54KFiSnLI"
      },
      "source": [
        "**The Grades of Loan**\n",
        "*  How about the grades of the loan?\n",
        "*  Lower grades more likely to charged off?\n",
        "*  Higher grade have higher rate of loan fully paid?\n",
        "\n",
        "\n",
        "\n",
        "\n",
        "\n",
        "\n",
        "\n",
        "\n",
        "\n",
        "\n",
        "\n",
        "  "
      ]
    },
    {
      "cell_type": "code",
      "metadata": {
        "colab": {
          "base_uri": "https://localhost:8080/",
          "height": 378
        },
        "id": "_FHDGp-z4I_O",
        "outputId": "0067d8db-08eb-4e78-d520-f8512feb1fae"
      },
      "source": [
        "sns.countplot(x='grade',hue='loan_status',data=df.sort_values(by='grade'))"
      ],
      "execution_count": null,
      "outputs": [
        {
          "output_type": "execute_result",
          "data": {
            "text/plain": [
              "<matplotlib.axes._subplots.AxesSubplot at 0x7fc1a44668d0>"
            ]
          },
          "metadata": {
            "tags": []
          },
          "execution_count": 62
        },
        {
          "output_type": "display_data",
          "data": {
            "image/png": "[encoded data removed]",
            "text/plain": [
              "<Figure size 576x396 with 1 Axes>"
            ]
          },
          "metadata": {
            "tags": []
          }
        }
      ]
    },
    {
      "cell_type": "code",
      "metadata": {
        "id": "LKSJDJlxw54B",
        "colab": {
          "base_uri": "https://localhost:8080/",
          "height": 298
        },
        "cellView": "form",
        "outputId": "2d1aa824-29a9-4754-b9a3-e3042e8f2ad9"
      },
      "source": [
        "#@title\n",
        "def magnify():\n",
        "    return [dict(selector=\"th\",\n",
        "                 props=[(\"font-size\", \"12pt\")]),\n",
        "            dict(selector=\"td\",\n",
        "                 props=[('padding', \"0em 0em\")]),\n",
        "            dict(selector=\"th:hover\",\n",
        "                 props=[(\"font-size\", \"20pt\")]),\n",
        "            dict(selector=\"tr:hover td:hover\",\n",
        "                 props=[('max-width', '200px'),\n",
        "                        ('font-size', '25pt')])]\n",
        "            \n",
        "df_bar=df[['loan_status','grade']].groupby('grade')['loan_status'].value_counts().reset_index(name='count')\n",
        "df_bar.style.bar(subset='count').hide_index().highlight_max(subset='loan_status',color='#676967').set_table_styles(magnify())"
      ],
      "execution_count": null,
      "outputs": [
        {
          "output_type": "execute_result",
          "data": {
            "text/html": [
              "<style  type=\"text/css\" >\n",
              "    #T_662fe302_a286_11eb_9cde_0242ac1c0002 th {\n",
              "          font-size: 12pt;\n",
              "    }    #T_662fe302_a286_11eb_9cde_0242ac1c0002 td {\n",
              "          padding: 0em 0em;\n",
              "    }    #T_662fe302_a286_11eb_9cde_0242ac1c0002 th:hover {\n",
              "          font-size: 20pt;\n",
              "    }    #T_662fe302_a286_11eb_9cde_0242ac1c0002 tr:hover td:hover {\n",
              "          max-width: 200px;\n",
              "          font-size: 25pt;\n",
              "    }#T_662fe302_a286_11eb_9cde_0242ac1c0002row0_col1,#T_662fe302_a286_11eb_9cde_0242ac1c0002row2_col1,#T_662fe302_a286_11eb_9cde_0242ac1c0002row4_col1,#T_662fe302_a286_11eb_9cde_0242ac1c0002row6_col1,#T_662fe302_a286_11eb_9cde_0242ac1c0002row8_col1,#T_662fe302_a286_11eb_9cde_0242ac1c0002row10_col1,#T_662fe302_a286_11eb_9cde_0242ac1c0002row12_col1{\n",
              "            background-color:  #676967;\n",
              "        }#T_662fe302_a286_11eb_9cde_0242ac1c0002row0_col2{\n",
              "            width:  10em;\n",
              "             height:  80%;\n",
              "            background:  linear-gradient(90deg,#d65f5f 58.7%, transparent 58.7%);\n",
              "        }#T_662fe302_a286_11eb_9cde_0242ac1c0002row1_col2{\n",
              "            width:  10em;\n",
              "             height:  80%;\n",
              "            background:  linear-gradient(90deg,#d65f5f 2.6%, transparent 2.6%);\n",
              "        }#T_662fe302_a286_11eb_9cde_0242ac1c0002row2_col2{\n",
              "            width:  10em;\n",
              "             height:  80%;\n",
              "            background:  linear-gradient(90deg,#d65f5f 100.0%, transparent 100.0%);\n",
              "        }#T_662fe302_a286_11eb_9cde_0242ac1c0002row3_col2{\n",
              "            width:  10em;\n",
              "             height:  80%;\n",
              "            background:  linear-gradient(90deg,#d65f5f 13.1%, transparent 13.1%);\n",
              "        }#T_662fe302_a286_11eb_9cde_0242ac1c0002row4_col2{\n",
              "            width:  10em;\n",
              "             height:  80%;\n",
              "            background:  linear-gradient(90deg,#d65f5f 82.1%, transparent 82.1%);\n",
              "        }#T_662fe302_a286_11eb_9cde_0242ac1c0002row5_col2{\n",
              "            width:  10em;\n",
              "             height:  80%;\n",
              "            background:  linear-gradient(90deg,#d65f5f 21.0%, transparent 21.0%);\n",
              "        }#T_662fe302_a286_11eb_9cde_0242ac1c0002row6_col2{\n",
              "            width:  10em;\n",
              "             height:  80%;\n",
              "            background:  linear-gradient(90deg,#d65f5f 43.7%, transparent 43.7%);\n",
              "        }#T_662fe302_a286_11eb_9cde_0242ac1c0002row7_col2{\n",
              "            width:  10em;\n",
              "             height:  80%;\n",
              "            background:  linear-gradient(90deg,#d65f5f 16.9%, transparent 16.9%);\n",
              "        }#T_662fe302_a286_11eb_9cde_0242ac1c0002row8_col2{\n",
              "            width:  10em;\n",
              "             height:  80%;\n",
              "            background:  linear-gradient(90deg,#d65f5f 18.3%, transparent 18.3%);\n",
              "        }#T_662fe302_a286_11eb_9cde_0242ac1c0002row9_col2{\n",
              "            width:  10em;\n",
              "             height:  80%;\n",
              "            background:  linear-gradient(90deg,#d65f5f 10.3%, transparent 10.3%);\n",
              "        }#T_662fe302_a286_11eb_9cde_0242ac1c0002row10_col2{\n",
              "            width:  10em;\n",
              "             height:  80%;\n",
              "            background:  linear-gradient(90deg,#d65f5f 5.3%, transparent 5.3%);\n",
              "        }#T_662fe302_a286_11eb_9cde_0242ac1c0002row11_col2{\n",
              "            width:  10em;\n",
              "             height:  80%;\n",
              "            background:  linear-gradient(90deg,#d65f5f 3.6%, transparent 3.6%);\n",
              "        }#T_662fe302_a286_11eb_9cde_0242ac1c0002row12_col2{\n",
              "            width:  10em;\n",
              "             height:  80%;\n",
              "            background:  linear-gradient(90deg,#d65f5f 0.1%, transparent 0.1%);\n",
              "        }#T_662fe302_a286_11eb_9cde_0242ac1c0002row13_col2{\n",
              "            width:  10em;\n",
              "             height:  80%;\n",
              "        }</style><table id=\"T_662fe302_a286_11eb_9cde_0242ac1c0002\" ><thead>    <tr>        <th class=\"col_heading level0 col0\" >grade</th>        <th class=\"col_heading level0 col1\" >loan_status</th>        <th class=\"col_heading level0 col2\" >count</th>    </tr></thead><tbody>\n",
              "                <tr>\n",
              "                                <td id=\"T_662fe302_a286_11eb_9cde_0242ac1c0002row0_col0\" class=\"data row0 col0\" >A</td>\n",
              "                        <td id=\"T_662fe302_a286_11eb_9cde_0242ac1c0002row0_col1\" class=\"data row0 col1\" >Fully Paid</td>\n",
              "                        <td id=\"T_662fe302_a286_11eb_9cde_0242ac1c0002row0_col2\" class=\"data row0 col2\" >60151</td>\n",
              "            </tr>\n",
              "            <tr>\n",
              "                                <td id=\"T_662fe302_a286_11eb_9cde_0242ac1c0002row1_col0\" class=\"data row1 col0\" >A</td>\n",
              "                        <td id=\"T_662fe302_a286_11eb_9cde_0242ac1c0002row1_col1\" class=\"data row1 col1\" >Charged Off</td>\n",
              "                        <td id=\"T_662fe302_a286_11eb_9cde_0242ac1c0002row1_col2\" class=\"data row1 col2\" >4036</td>\n",
              "            </tr>\n",
              "            <tr>\n",
              "                                <td id=\"T_662fe302_a286_11eb_9cde_0242ac1c0002row2_col0\" class=\"data row2 col0\" >B</td>\n",
              "                        <td id=\"T_662fe302_a286_11eb_9cde_0242ac1c0002row2_col1\" class=\"data row2 col1\" >Fully Paid</td>\n",
              "                        <td id=\"T_662fe302_a286_11eb_9cde_0242ac1c0002row2_col2\" class=\"data row2 col2\" >101431</td>\n",
              "            </tr>\n",
              "            <tr>\n",
              "                                <td id=\"T_662fe302_a286_11eb_9cde_0242ac1c0002row3_col0\" class=\"data row3 col0\" >B</td>\n",
              "                        <td id=\"T_662fe302_a286_11eb_9cde_0242ac1c0002row3_col1\" class=\"data row3 col1\" >Charged Off</td>\n",
              "                        <td id=\"T_662fe302_a286_11eb_9cde_0242ac1c0002row3_col2\" class=\"data row3 col2\" >14587</td>\n",
              "            </tr>\n",
              "            <tr>\n",
              "                                <td id=\"T_662fe302_a286_11eb_9cde_0242ac1c0002row4_col0\" class=\"data row4 col0\" >C</td>\n",
              "                        <td id=\"T_662fe302_a286_11eb_9cde_0242ac1c0002row4_col1\" class=\"data row4 col1\" >Fully Paid</td>\n",
              "                        <td id=\"T_662fe302_a286_11eb_9cde_0242ac1c0002row4_col2\" class=\"data row4 col2\" >83538</td>\n",
              "            </tr>\n",
              "            <tr>\n",
              "                                <td id=\"T_662fe302_a286_11eb_9cde_0242ac1c0002row5_col0\" class=\"data row5 col0\" >C</td>\n",
              "                        <td id=\"T_662fe302_a286_11eb_9cde_0242ac1c0002row5_col1\" class=\"data row5 col1\" >Charged Off</td>\n",
              "                        <td id=\"T_662fe302_a286_11eb_9cde_0242ac1c0002row5_col2\" class=\"data row5 col2\" >22449</td>\n",
              "            </tr>\n",
              "            <tr>\n",
              "                                <td id=\"T_662fe302_a286_11eb_9cde_0242ac1c0002row6_col0\" class=\"data row6 col0\" >D</td>\n",
              "                        <td id=\"T_662fe302_a286_11eb_9cde_0242ac1c0002row6_col1\" class=\"data row6 col1\" >Fully Paid</td>\n",
              "                        <td id=\"T_662fe302_a286_11eb_9cde_0242ac1c0002row6_col2\" class=\"data row6 col2\" >45186</td>\n",
              "            </tr>\n",
              "            <tr>\n",
              "                                <td id=\"T_662fe302_a286_11eb_9cde_0242ac1c0002row7_col0\" class=\"data row7 col0\" >D</td>\n",
              "                        <td id=\"T_662fe302_a286_11eb_9cde_0242ac1c0002row7_col1\" class=\"data row7 col1\" >Charged Off</td>\n",
              "                        <td id=\"T_662fe302_a286_11eb_9cde_0242ac1c0002row7_col2\" class=\"data row7 col2\" >18338</td>\n",
              "            </tr>\n",
              "            <tr>\n",
              "                                <td id=\"T_662fe302_a286_11eb_9cde_0242ac1c0002row8_col0\" class=\"data row8 col0\" >E</td>\n",
              "                        <td id=\"T_662fe302_a286_11eb_9cde_0242ac1c0002row8_col1\" class=\"data row8 col1\" >Fully Paid</td>\n",
              "                        <td id=\"T_662fe302_a286_11eb_9cde_0242ac1c0002row8_col2\" class=\"data row8 col2\" >19723</td>\n",
              "            </tr>\n",
              "            <tr>\n",
              "                                <td id=\"T_662fe302_a286_11eb_9cde_0242ac1c0002row9_col0\" class=\"data row9 col0\" >E</td>\n",
              "                        <td id=\"T_662fe302_a286_11eb_9cde_0242ac1c0002row9_col1\" class=\"data row9 col1\" >Charged Off</td>\n",
              "                        <td id=\"T_662fe302_a286_11eb_9cde_0242ac1c0002row9_col2\" class=\"data row9 col2\" >11765</td>\n",
              "            </tr>\n",
              "            <tr>\n",
              "                                <td id=\"T_662fe302_a286_11eb_9cde_0242ac1c0002row10_col0\" class=\"data row10 col0\" >F</td>\n",
              "                        <td id=\"T_662fe302_a286_11eb_9cde_0242ac1c0002row10_col1\" class=\"data row10 col1\" >Fully Paid</td>\n",
              "                        <td id=\"T_662fe302_a286_11eb_9cde_0242ac1c0002row10_col2\" class=\"data row10 col2\" >6735</td>\n",
              "            </tr>\n",
              "            <tr>\n",
              "                                <td id=\"T_662fe302_a286_11eb_9cde_0242ac1c0002row11_col0\" class=\"data row11 col0\" >F</td>\n",
              "                        <td id=\"T_662fe302_a286_11eb_9cde_0242ac1c0002row11_col1\" class=\"data row11 col1\" >Charged Off</td>\n",
              "                        <td id=\"T_662fe302_a286_11eb_9cde_0242ac1c0002row11_col2\" class=\"data row11 col2\" >5037</td>\n",
              "            </tr>\n",
              "            <tr>\n",
              "                                <td id=\"T_662fe302_a286_11eb_9cde_0242ac1c0002row12_col0\" class=\"data row12 col0\" >G</td>\n",
              "                        <td id=\"T_662fe302_a286_11eb_9cde_0242ac1c0002row12_col1\" class=\"data row12 col1\" >Fully Paid</td>\n",
              "                        <td id=\"T_662fe302_a286_11eb_9cde_0242ac1c0002row12_col2\" class=\"data row12 col2\" >1593</td>\n",
              "            </tr>\n",
              "            <tr>\n",
              "                                <td id=\"T_662fe302_a286_11eb_9cde_0242ac1c0002row13_col0\" class=\"data row13 col0\" >G</td>\n",
              "                        <td id=\"T_662fe302_a286_11eb_9cde_0242ac1c0002row13_col1\" class=\"data row13 col1\" >Charged Off</td>\n",
              "                        <td id=\"T_662fe302_a286_11eb_9cde_0242ac1c0002row13_col2\" class=\"data row13 col2\" >1461</td>\n",
              "            </tr>\n",
              "    </tbody></table>"
            ],
            "text/plain": [
              "<pandas.io.formats.style.Styler at 0x7fc1a43df990>"
            ]
          },
          "metadata": {
            "tags": []
          },
          "execution_count": 63
        }
      ]
    },
    {
      "cell_type": "markdown",
      "metadata": {
        "id": "Y2wmRhD7XFvD"
      },
      "source": [
        "Note: Charged off loans exist across all grades. However, the 2 worst grade (F and G) had almost same rate for both category!\n",
        "\n",
        "Let's dive further into these 2 grades!"
      ]
    },
    {
      "cell_type": "code",
      "metadata": {
        "colab": {
          "base_uri": "https://localhost:8080/",
          "height": 351
        },
        "id": "xa1hewxo4Rdy",
        "cellView": "form",
        "outputId": "3b04ca13-1fa7-4c5a-a171-244a2f1b6c69"
      },
      "source": [
        "#@title\n",
        "plt.figure(figsize=(12,5))\n",
        "sns.countplot(x='sub_grade',hue='loan_status',data=df[df.sub_grade.str.contains('F')|df.sub_grade.str.contains('G')].sort_values(by='sub_grade'))"
      ],
      "execution_count": null,
      "outputs": [
        {
          "output_type": "execute_result",
          "data": {
            "text/plain": [
              "<matplotlib.axes._subplots.AxesSubplot at 0x7fc1a4477510>"
            ]
          },
          "metadata": {
            "tags": []
          },
          "execution_count": 64
        },
        {
          "output_type": "display_data",
          "data": {
            "image/png": "[encoded data removed]",
            "text/plain": [
              "<Figure size 864x360 with 1 Axes>"
            ]
          },
          "metadata": {
            "tags": []
          }
        }
      ]
    },
    {
      "cell_type": "markdown",
      "metadata": {
        "id": "0nwbEn1jaFfA"
      },
      "source": [
        "Not suprisingly, decrease of the loan grade shows increase in the charge of rate. At G5, it's a coin flip whether the loan will be repaid.\n"
      ]
    },
    {
      "cell_type": "markdown",
      "metadata": {
        "id": "2fAWv_qcMDPh"
      },
      "source": [
        "# **Data Preprocessing**\n",
        "\n",
        "---\n",
        "\n"
      ]
    },
    {
      "cell_type": "markdown",
      "metadata": {
        "id": "spK_Ax8-7YM8"
      },
      "source": [
        "In this section, we will decide which feature are important to keep and/or filling in the missing data"
      ]
    },
    {
      "cell_type": "markdown",
      "metadata": {
        "id": "ltnLPRUQ5QFf"
      },
      "source": [
        "Since this is a classification problem, and the dataset will be fed into a NN. The string label will be mapped to 1 and 0 \n",
        "\n",
        "(Fully paid = 1 and Charged Off = 0)"
      ]
    },
    {
      "cell_type": "code",
      "metadata": {
        "id": "IdrfROJ15L4j"
      },
      "source": [
        "df['loan_repaid'] = df['loan_status'].apply(lambda x: 1 if x == 'Fully Paid' else 0)"
      ],
      "execution_count": 53,
      "outputs": []
    },
    {
      "cell_type": "code",
      "metadata": {
        "id": "9udH98oW5S6q",
        "colab": {
          "base_uri": "https://localhost:8080/",
          "height": 343
        },
        "cellView": "form",
        "outputId": "d76a941d-d840-4961-cc80-57fb56f53ceb"
      },
      "source": [
        "#@title\n",
        "df[['loan_repaid','loan_status']].head(10)"
      ],
      "execution_count": null,
      "outputs": [
        {
          "output_type": "execute_result",
          "data": {
            "text/html": [
              "<div>\n",
              "<style scoped>\n",
              "    .dataframe tbody tr th:only-of-type {\n",
              "        vertical-align: middle;\n",
              "    }\n",
              "\n",
              "    .dataframe tbody tr th {\n",
              "        vertical-align: top;\n",
              "    }\n",
              "\n",
              "    .dataframe thead th {\n",
              "        text-align: right;\n",
              "    }\n",
              "</style>\n",
              "<table border=\"1\" class=\"dataframe\">\n",
              "  <thead>\n",
              "    <tr style=\"text-align: right;\">\n",
              "      <th></th>\n",
              "      <th>loan_repaid</th>\n",
              "      <th>loan_status</th>\n",
              "    </tr>\n",
              "  </thead>\n",
              "  <tbody>\n",
              "    <tr>\n",
              "      <th>0</th>\n",
              "      <td>1</td>\n",
              "      <td>Fully Paid</td>\n",
              "    </tr>\n",
              "    <tr>\n",
              "      <th>1</th>\n",
              "      <td>1</td>\n",
              "      <td>Fully Paid</td>\n",
              "    </tr>\n",
              "    <tr>\n",
              "      <th>2</th>\n",
              "      <td>1</td>\n",
              "      <td>Fully Paid</td>\n",
              "    </tr>\n",
              "    <tr>\n",
              "      <th>3</th>\n",
              "      <td>1</td>\n",
              "      <td>Fully Paid</td>\n",
              "    </tr>\n",
              "    <tr>\n",
              "      <th>4</th>\n",
              "      <td>0</td>\n",
              "      <td>Charged Off</td>\n",
              "    </tr>\n",
              "    <tr>\n",
              "      <th>5</th>\n",
              "      <td>1</td>\n",
              "      <td>Fully Paid</td>\n",
              "    </tr>\n",
              "    <tr>\n",
              "      <th>6</th>\n",
              "      <td>1</td>\n",
              "      <td>Fully Paid</td>\n",
              "    </tr>\n",
              "    <tr>\n",
              "      <th>7</th>\n",
              "      <td>1</td>\n",
              "      <td>Fully Paid</td>\n",
              "    </tr>\n",
              "    <tr>\n",
              "      <th>8</th>\n",
              "      <td>1</td>\n",
              "      <td>Fully Paid</td>\n",
              "    </tr>\n",
              "    <tr>\n",
              "      <th>9</th>\n",
              "      <td>1</td>\n",
              "      <td>Fully Paid</td>\n",
              "    </tr>\n",
              "  </tbody>\n",
              "</table>\n",
              "</div>"
            ],
            "text/plain": [
              "   loan_repaid  loan_status\n",
              "0            1   Fully Paid\n",
              "1            1   Fully Paid\n",
              "2            1   Fully Paid\n",
              "3            1   Fully Paid\n",
              "4            0  Charged Off\n",
              "5            1   Fully Paid\n",
              "6            1   Fully Paid\n",
              "7            1   Fully Paid\n",
              "8            1   Fully Paid\n",
              "9            1   Fully Paid"
            ]
          },
          "metadata": {
            "tags": []
          },
          "execution_count": 72
        }
      ]
    },
    {
      "cell_type": "markdown",
      "metadata": {
        "id": "89E0g7gE7LAg"
      },
      "source": [
        "**The Missing Data**\n",
        "\n",
        "Which attribute have missing data? And how many?"
      ]
    },
    {
      "cell_type": "code",
      "metadata": {
        "colab": {
          "base_uri": "https://localhost:8080/"
        },
        "id": "D6iDfOs58OaN",
        "outputId": "26f7add8-a0ff-4eb1-c1a8-b597931d91db"
      },
      "source": [
        "df.isnull().sum()"
      ],
      "execution_count": null,
      "outputs": [
        {
          "output_type": "execute_result",
          "data": {
            "text/plain": [
              "loan_amnt                   0\n",
              "term                        0\n",
              "int_rate                    0\n",
              "installment                 0\n",
              "grade                       0\n",
              "sub_grade                   0\n",
              "emp_title               22927\n",
              "emp_length              18301\n",
              "home_ownership              0\n",
              "annual_inc                  0\n",
              "verification_status         0\n",
              "issue_d                     0\n",
              "loan_status                 0\n",
              "purpose                     0\n",
              "title                    1755\n",
              "dti                         0\n",
              "earliest_cr_line            0\n",
              "open_acc                    0\n",
              "pub_rec                     0\n",
              "revol_bal                   0\n",
              "revol_util                276\n",
              "total_acc                   0\n",
              "initial_list_status         0\n",
              "application_type            0\n",
              "mort_acc                37795\n",
              "pub_rec_bankruptcies      535\n",
              "address                     0\n",
              "loan_repaid                 0\n",
              "dtype: int64"
            ]
          },
          "metadata": {
            "tags": []
          },
          "execution_count": 73
        }
      ]
    },
    {
      "cell_type": "code",
      "metadata": {
        "colab": {
          "base_uri": "https://localhost:8080/"
        },
        "id": "xneSoeH99l0j",
        "outputId": "496c8180-698a-4325-f885-4f976825de86"
      },
      "source": [
        "(df.isnull().sum()/len(df)) * 100"
      ],
      "execution_count": null,
      "outputs": [
        {
          "output_type": "execute_result",
          "data": {
            "text/plain": [
              "loan_amnt               0.000000\n",
              "term                    0.000000\n",
              "int_rate                0.000000\n",
              "installment             0.000000\n",
              "grade                   0.000000\n",
              "sub_grade               0.000000\n",
              "emp_title               5.789208\n",
              "emp_length              4.621115\n",
              "home_ownership          0.000000\n",
              "annual_inc              0.000000\n",
              "verification_status     0.000000\n",
              "issue_d                 0.000000\n",
              "loan_status             0.000000\n",
              "purpose                 0.000000\n",
              "title                   0.443148\n",
              "dti                     0.000000\n",
              "earliest_cr_line        0.000000\n",
              "open_acc                0.000000\n",
              "pub_rec                 0.000000\n",
              "revol_bal               0.000000\n",
              "revol_util              0.069692\n",
              "total_acc               0.000000\n",
              "initial_list_status     0.000000\n",
              "application_type        0.000000\n",
              "mort_acc                9.543469\n",
              "pub_rec_bankruptcies    0.135091\n",
              "address                 0.000000\n",
              "loan_repaid             0.000000\n",
              "dtype: float64"
            ]
          },
          "metadata": {
            "tags": []
          },
          "execution_count": 74
        }
      ]
    },
    {
      "cell_type": "markdown",
      "metadata": {
        "id": "EpmOIo85-bVJ"
      },
      "source": [
        "There are a few number of features with missin data. Some of them are of insignificant amount which has less than 1%. We should explore more on the features that had large amount of missing data.\n"
      ]
    },
    {
      "cell_type": "markdown",
      "metadata": {
        "id": "7Fwqxoxk-6fq"
      },
      "source": [
        "**Employment title and Employment length**\n",
        "\n",
        "Drop or keep?"
      ]
    },
    {
      "cell_type": "markdown",
      "metadata": {
        "id": "q_91lYMTAdHz"
      },
      "source": [
        "Employment Title\n",
        "\n",
        "First, it useful to find out what kind of unique value we had in emp_title."
      ]
    },
    {
      "cell_type": "code",
      "metadata": {
        "colab": {
          "base_uri": "https://localhost:8080/"
        },
        "id": "ZAkSVKIU_4zk",
        "outputId": "e29d4b3d-2555-4429-8ea1-aa578089cf53"
      },
      "source": [
        "df.emp_title.value_counts()"
      ],
      "execution_count": null,
      "outputs": [
        {
          "output_type": "execute_result",
          "data": {
            "text/plain": [
              "Teacher                         4389\n",
              "Manager                         4250\n",
              "Registered Nurse                1856\n",
              "RN                              1846\n",
              "Supervisor                      1830\n",
              "                                ... \n",
              "Topline Home Healthcare            1\n",
              "Opt Tech                           1\n",
              "Director I/S                       1\n",
              "Care manager                       1\n",
              "Chief, Real  Estate Division       1\n",
              "Name: emp_title, Length: 173105, dtype: int64"
            ]
          },
          "metadata": {
            "tags": []
          },
          "execution_count": 76
        }
      ]
    },
    {
      "cell_type": "markdown",
      "metadata": {
        "id": "mF3xwU2qAw2z"
      },
      "source": [
        "There are too many unique value in this attribute. Converting it with one-hot encoding is impossible. \n",
        "\n",
        "emp_title can be removed"
      ]
    },
    {
      "cell_type": "code",
      "metadata": {
        "id": "j6iUDVQWBxoN"
      },
      "source": [
        "df.drop(['emp_title'],axis=1,inplace=True)"
      ],
      "execution_count": 54,
      "outputs": []
    },
    {
      "cell_type": "markdown",
      "metadata": {
        "id": "DsUJVSxyCV47"
      },
      "source": [
        "Employment Length\n",
        "\n",
        "What about employment length?"
      ]
    },
    {
      "cell_type": "code",
      "metadata": {
        "id": "1Lb4-ELWCWqI",
        "colab": {
          "base_uri": "https://localhost:8080/",
          "height": 296
        },
        "outputId": "50dd2e7c-2c1e-45d2-912d-07b447804bb6"
      },
      "source": [
        "plt.figure(figsize=(12, 4))\n",
        "sns.countplot(x='emp_length',data=df.sort_values(by='emp_length'))"
      ],
      "execution_count": null,
      "outputs": [
        {
          "output_type": "execute_result",
          "data": {
            "text/plain": [
              "<matplotlib.axes._subplots.AxesSubplot at 0x7f5b20c59190>"
            ]
          },
          "metadata": {
            "tags": []
          },
          "execution_count": 6
        },
        {
          "output_type": "display_data",
          "data": {
            "image/png": "[encoded data removed]",
            "text/plain": [
              "<Figure size 864x288 with 1 Axes>"
            ]
          },
          "metadata": {
            "tags": [],
            "needs_background": "light"
          }
        }
      ]
    },
    {
      "cell_type": "markdown",
      "metadata": {
        "id": "QihVEz5kRJVW"
      },
      "source": [
        "Note: Most of the borrower are with more than 10 years of employment."
      ]
    },
    {
      "cell_type": "markdown",
      "metadata": {
        "id": "XijD7fcqRuds"
      },
      "source": [
        "Next, we would like to see fully paid and charged off category betweens employment length."
      ]
    },
    {
      "cell_type": "code",
      "metadata": {
        "colab": {
          "base_uri": "https://localhost:8080/",
          "height": 296
        },
        "id": "Asrw6m_tQAIi",
        "outputId": "a3aeb7f8-fced-44a2-a847-83a0d5c9ba60"
      },
      "source": [
        "plt.figure(figsize=(12, 4))\n",
        "sns.countplot(x='emp_length',hue='loan_status',data=df.sort_values(by='emp_length'))"
      ],
      "execution_count": null,
      "outputs": [
        {
          "output_type": "execute_result",
          "data": {
            "text/plain": [
              "<matplotlib.axes._subplots.AxesSubplot at 0x7f5b1fd21ed0>"
            ]
          },
          "metadata": {
            "tags": []
          },
          "execution_count": 8
        },
        {
          "output_type": "display_data",
          "data": {
            "image/png": "[encoded data removed]",
            "text/plain": [
              "<Figure size 864x288 with 1 Axes>"
            ]
          },
          "metadata": {
            "tags": [],
            "needs_background": "light"
          }
        }
      ]
    },
    {
      "cell_type": "markdown",
      "metadata": {
        "id": "_4nSxw9ZQAqW"
      },
      "source": [
        "This still doesnt tell us whether employment length is an important feature. It doesnt show a strong relationship between employment length and being charged off.\n",
        "\n",
        "A better way to do this, is to find the percentage of charged off for each category of employment length."
      ]
    },
    {
      "cell_type": "code",
      "metadata": {
        "id": "CPcg4Oi5TkQf"
      },
      "source": [
        "percentage_co = df[df['loan_status']=='Charged Off'].emp_length.value_counts() / df.emp_length.value_counts()"
      ],
      "execution_count": null,
      "outputs": []
    },
    {
      "cell_type": "code",
      "metadata": {
        "colab": {
          "base_uri": "https://localhost:8080/",
          "height": 502
        },
        "cellView": "form",
        "id": "r484gP4oT4rH",
        "outputId": "abc98f3f-89a2-49b9-90d5-320e8d30db7d"
      },
      "source": [
        "#@title\n",
        "percentage_co.plot(x='emp_length',kind='bar')\n",
        "percentage_co"
      ],
      "execution_count": null,
      "outputs": [
        {
          "output_type": "execute_result",
          "data": {
            "text/plain": [
              "1 year       0.199135\n",
              "10+ years    0.184186\n",
              "2 years      0.193262\n",
              "3 years      0.195231\n",
              "4 years      0.192385\n",
              "5 years      0.192187\n",
              "6 years      0.189194\n",
              "7 years      0.194774\n",
              "8 years      0.199760\n",
              "9 years      0.200470\n",
              "< 1 year     0.206872\n",
              "Name: emp_length, dtype: float64"
            ]
          },
          "metadata": {
            "tags": []
          },
          "execution_count": 16
        },
        {
          "output_type": "display_data",
          "data": {
            "image/png": "[encoded data removed]",
            "text/plain": [
              "<Figure size 432x288 with 1 Axes>"
            ]
          },
          "metadata": {
            "tags": [],
            "needs_background": "light"
          }
        }
      ]
    },
    {
      "cell_type": "markdown",
      "metadata": {
        "id": "RjQ8vqjwWaJQ"
      },
      "source": [
        "We can see that percentage of charged off for each category are kinda similar. This tell us that employment length is not a good attribute that distinguish between charged off and fully paid. DROP IT!"
      ]
    },
    {
      "cell_type": "code",
      "metadata": {
        "id": "yL-0_Oo6XvV8"
      },
      "source": [
        "df.drop(['emp_length'],axis=1,inplace=True)"
      ],
      "execution_count": 55,
      "outputs": []
    },
    {
      "cell_type": "markdown",
      "metadata": {
        "id": "wy6Ix8WoXzWK"
      },
      "source": [
        "**Title**\n",
        "\n",
        "Looking at the attribute description:\n",
        "\n",
        ">        title\tThe loan title provided by the borrower\n",
        "\n",
        ">       purpose\tA category provided by the borrower for the loan request.\n",
        "\n",
        "\n",
        "\n",
        "\n",
        "\n"
      ]
    },
    {
      "cell_type": "code",
      "metadata": {
        "id": "qc6sq3JPbDkZ"
      },
      "source": [
        "df['title']"
      ],
      "execution_count": null,
      "outputs": []
    },
    {
      "cell_type": "code",
      "metadata": {
        "colab": {
          "base_uri": "https://localhost:8080/"
        },
        "id": "cIJi2X2MZmE0",
        "outputId": "fe53c1b9-0727-4f0e-d74e-20cb4a9ddff2"
      },
      "source": [
        "df['title'].head(10)"
      ],
      "execution_count": null,
      "outputs": [
        {
          "output_type": "execute_result",
          "data": {
            "text/plain": [
              "0                   Vacation\n",
              "1         Debt consolidation\n",
              "2    Credit card refinancing\n",
              "3    Credit card refinancing\n",
              "4      Credit Card Refinance\n",
              "5         Debt consolidation\n",
              "6           Home improvement\n",
              "7       No More Credit Cards\n",
              "8         Debt consolidation\n",
              "9         Debt Consolidation\n",
              "Name: title, dtype: object"
            ]
          },
          "metadata": {
            "tags": []
          },
          "execution_count": 19
        }
      ]
    },
    {
      "cell_type": "code",
      "metadata": {
        "colab": {
          "base_uri": "https://localhost:8080/"
        },
        "id": "puLyT737Zorx",
        "outputId": "0f8fbf7c-965d-4b75-e2a3-134657357388"
      },
      "source": [
        "df['purpose'].head(10)"
      ],
      "execution_count": null,
      "outputs": [
        {
          "output_type": "execute_result",
          "data": {
            "text/plain": [
              "0              vacation\n",
              "1    debt_consolidation\n",
              "2           credit_card\n",
              "3           credit_card\n",
              "4           credit_card\n",
              "5    debt_consolidation\n",
              "6      home_improvement\n",
              "7           credit_card\n",
              "8    debt_consolidation\n",
              "9    debt_consolidation\n",
              "Name: purpose, dtype: object"
            ]
          },
          "metadata": {
            "tags": []
          },
          "execution_count": 18
        }
      ]
    },
    {
      "cell_type": "markdown",
      "metadata": {
        "id": "eoLSL2nKZtE4"
      },
      "source": [
        "Note: It seems title is just a subcategory for purpose. They held very similar information."
      ]
    },
    {
      "cell_type": "code",
      "metadata": {
        "id": "kALHF8ruaL8z"
      },
      "source": [
        "df.drop(['title'],axis=1,inplace=True)"
      ],
      "execution_count": 56,
      "outputs": []
    },
    {
      "cell_type": "markdown",
      "metadata": {
        "id": "k8CwcxG_aPHk"
      },
      "source": [
        "Impute mort_acc\n",
        "\n",
        "KNN-Impute: Take too long"
      ]
    },
    {
      "cell_type": "code",
      "metadata": {
        "id": "2y2OrLMzaPcL"
      },
      "source": [
        "# imputer = KNNImputer(n_neighbors=2)\n",
        "# mort = imputer.fit_transform(df[['mort_acc','total_acc']])"
      ],
      "execution_count": null,
      "outputs": []
    },
    {
      "cell_type": "markdown",
      "metadata": {
        "id": "MQujNttW2YWV"
      },
      "source": [
        "Lets find which attribute is highly correlated with mort_acc"
      ]
    },
    {
      "cell_type": "code",
      "metadata": {
        "colab": {
          "base_uri": "https://localhost:8080/"
        },
        "id": "MJCeAJHC1ss3",
        "outputId": "568b29ab-15e6-4d2e-9108-5ca4e7c622de"
      },
      "source": [
        "df.corr().mort_acc"
      ],
      "execution_count": null,
      "outputs": [
        {
          "output_type": "execute_result",
          "data": {
            "text/plain": [
              "loan_amnt               0.222315\n",
              "int_rate               -0.082583\n",
              "installment             0.193694\n",
              "annual_inc              0.236320\n",
              "dti                    -0.025439\n",
              "open_acc                0.109205\n",
              "pub_rec                 0.011552\n",
              "revol_bal               0.194925\n",
              "revol_util              0.007514\n",
              "total_acc               0.381072\n",
              "mort_acc                1.000000\n",
              "pub_rec_bankruptcies    0.027239\n",
              "loan_repaid             0.073111\n",
              "Name: mort_acc, dtype: float64"
            ]
          },
          "metadata": {
            "tags": []
          },
          "execution_count": 52
        }
      ]
    },
    {
      "cell_type": "markdown",
      "metadata": {
        "id": "rEpeoIZF21Y4"
      },
      "source": [
        "Note: total_acc seems to havve a high correltion with mort_acc. Since mort_acc has a strong correlation with total_acc we will group the dataframe by the total_acc and calculate the mean value for the mort_acc per total_acc entry."
      ]
    },
    {
      "cell_type": "code",
      "metadata": {
        "colab": {
          "base_uri": "https://localhost:8080/"
        },
        "id": "72vlQ8J35NeJ",
        "outputId": "429df637-adf6-4ddc-d2ac-3973641750d9"
      },
      "source": [
        "total_acc_avg = df.groupby('total_acc').mean()['mort_acc']\n",
        "print(total_acc_avg)"
      ],
      "execution_count": 57,
      "outputs": [
        {
          "output_type": "stream",
          "text": [
            "total_acc\n",
            "2.0      0.000000\n",
            "3.0      0.052023\n",
            "4.0      0.066743\n",
            "5.0      0.103289\n",
            "6.0      0.151293\n",
            "           ...   \n",
            "124.0    1.000000\n",
            "129.0    1.000000\n",
            "135.0    3.000000\n",
            "150.0    2.000000\n",
            "151.0    0.000000\n",
            "Name: mort_acc, Length: 118, dtype: float64\n"
          ],
          "name": "stdout"
        }
      ]
    },
    {
      "cell_type": "code",
      "metadata": {
        "id": "slgV3FVd5cib"
      },
      "source": [
        "def fill_mort_acc(total_acc,mort_acc):\n",
        "    if np.isnan(mort_acc):\n",
        "        return total_acc_avg[total_acc]\n",
        "    else:\n",
        "        return mort_acc"
      ],
      "execution_count": 30,
      "outputs": []
    },
    {
      "cell_type": "code",
      "metadata": {
        "id": "SyW5DSX45rm_"
      },
      "source": [
        "df['mort_acc'] = df.apply(lambda x: fill_mort_acc(x['total_acc'], x['mort_acc']), axis=1)"
      ],
      "execution_count": 58,
      "outputs": []
    },
    {
      "cell_type": "code",
      "metadata": {
        "id": "P1qoCx2yEPCv"
      },
      "source": [
        "df.dropna(subset=['revol_util','pub_rec_bankruptcies'],inplace=True)"
      ],
      "execution_count": 59,
      "outputs": []
    },
    {
      "cell_type": "code",
      "metadata": {
        "colab": {
          "base_uri": "https://localhost:8080/"
        },
        "id": "qLkJoAMPEVXL",
        "outputId": "c914144a-9f23-4c9e-a8de-4797ad0a22a6"
      },
      "source": [
        "df.isnull().sum()"
      ],
      "execution_count": null,
      "outputs": [
        {
          "output_type": "execute_result",
          "data": {
            "text/plain": [
              "loan_amnt               0\n",
              "term                    0\n",
              "int_rate                0\n",
              "installment             0\n",
              "grade                   0\n",
              "sub_grade               0\n",
              "home_ownership          0\n",
              "annual_inc              0\n",
              "verification_status     0\n",
              "issue_d                 0\n",
              "loan_status             0\n",
              "purpose                 0\n",
              "dti                     0\n",
              "earliest_cr_line        0\n",
              "open_acc                0\n",
              "pub_rec                 0\n",
              "revol_bal               0\n",
              "revol_util              0\n",
              "total_acc               0\n",
              "initial_list_status     0\n",
              "application_type        0\n",
              "mort_acc                0\n",
              "pub_rec_bankruptcies    0\n",
              "address                 0\n",
              "loan_repaid             0\n",
              "dtype: int64"
            ]
          },
          "metadata": {
            "tags": []
          },
          "execution_count": 57
        }
      ]
    },
    {
      "cell_type": "markdown",
      "metadata": {
        "id": "KQVXBYZUFAcX"
      },
      "source": [
        "Categorical variables and dummy variables"
      ]
    },
    {
      "cell_type": "code",
      "metadata": {
        "colab": {
          "base_uri": "https://localhost:8080/"
        },
        "id": "mHZNZ8J_FFF0",
        "outputId": "502cb203-a6dd-4eda-9b05-458b5dd70c50"
      },
      "source": [
        "list(df.select_dtypes(include='object'))"
      ],
      "execution_count": null,
      "outputs": [
        {
          "output_type": "execute_result",
          "data": {
            "text/plain": [
              "['term',\n",
              " 'grade',\n",
              " 'sub_grade',\n",
              " 'home_ownership',\n",
              " 'verification_status',\n",
              " 'issue_d',\n",
              " 'loan_status',\n",
              " 'purpose',\n",
              " 'earliest_cr_line',\n",
              " 'initial_list_status',\n",
              " 'application_type',\n",
              " 'address']"
            ]
          },
          "metadata": {
            "tags": []
          },
          "execution_count": 58
        }
      ]
    },
    {
      "cell_type": "markdown",
      "metadata": {
        "id": "YVbD6kdcESfv"
      },
      "source": [
        "**Term**"
      ]
    },
    {
      "cell_type": "code",
      "metadata": {
        "id": "qmoRN9r1J7xg",
        "colab": {
          "base_uri": "https://localhost:8080/"
        },
        "outputId": "0bae7f7a-9c69-4929-9fa9-c9e564fcf4fc"
      },
      "source": [
        "df['term']"
      ],
      "execution_count": 12,
      "outputs": [
        {
          "output_type": "execute_result",
          "data": {
            "text/plain": [
              "0          36 months\n",
              "1          36 months\n",
              "2          36 months\n",
              "3          36 months\n",
              "4          60 months\n",
              "             ...    \n",
              "396025     60 months\n",
              "396026     36 months\n",
              "396027     36 months\n",
              "396028     60 months\n",
              "396029     36 months\n",
              "Name: term, Length: 395219, dtype: object"
            ]
          },
          "metadata": {
            "tags": []
          },
          "execution_count": 12
        }
      ]
    },
    {
      "cell_type": "markdown",
      "metadata": {
        "id": "AIwLoJ2kCtM3"
      },
      "source": [
        "Now lets convert term feature to int type (36 or 60)"
      ]
    },
    {
      "cell_type": "code",
      "metadata": {
        "colab": {
          "base_uri": "https://localhost:8080/"
        },
        "id": "iO6fwaTYCEYe",
        "outputId": "3825233e-c0a5-4609-b00e-86011e092848"
      },
      "source": [
        "df['term'] = df['term'].apply(lambda term: int(term[:3]))\n",
        "df['term']"
      ],
      "execution_count": 60,
      "outputs": [
        {
          "output_type": "execute_result",
          "data": {
            "text/plain": [
              "0         36\n",
              "1         36\n",
              "2         36\n",
              "3         36\n",
              "4         60\n",
              "          ..\n",
              "396025    60\n",
              "396026    36\n",
              "396027    36\n",
              "396028    60\n",
              "396029    36\n",
              "Name: term, Length: 395219, dtype: int64"
            ]
          },
          "metadata": {
            "tags": []
          },
          "execution_count": 60
        }
      ]
    },
    {
      "cell_type": "markdown",
      "metadata": {
        "id": "aGZPL-HbDtFN"
      },
      "source": [
        "**Grade and Sub-grade**\n",
        "\n",
        "We already know grade is part of sub_grade, so just drop the grade feature."
      ]
    },
    {
      "cell_type": "code",
      "metadata": {
        "id": "kxerkxIPDutv"
      },
      "source": [
        "df.drop('grade',axis=1,inplace=True)"
      ],
      "execution_count": 61,
      "outputs": []
    },
    {
      "cell_type": "markdown",
      "metadata": {
        "id": "wilRPTToDvOF"
      },
      "source": [
        "Converting sub grades to dummy variables"
      ]
    },
    {
      "cell_type": "code",
      "metadata": {
        "id": "4keuNWbKEvOo"
      },
      "source": [
        "subgrade_dummies = pd.get_dummies(df['sub_grade'],drop_first=True)\n",
        "df.drop('sub_grade',axis=1,inplace=True)"
      ],
      "execution_count": 62,
      "outputs": []
    },
    {
      "cell_type": "code",
      "metadata": {
        "id": "P2ytVgk2E8BN"
      },
      "source": [
        "df = pd.concat([df,subgrade_dummies],axis=1)"
      ],
      "execution_count": 63,
      "outputs": []
    },
    {
      "cell_type": "code",
      "metadata": {
        "colab": {
          "base_uri": "https://localhost:8080/"
        },
        "id": "Cz7b41xNF6o2",
        "outputId": "2302a667-ba1c-414b-bc5a-1b7fc612647c"
      },
      "source": [
        "df.columns"
      ],
      "execution_count": 64,
      "outputs": [
        {
          "output_type": "execute_result",
          "data": {
            "text/plain": [
              "Index(['loan_amnt', 'term', 'int_rate', 'installment', 'home_ownership',\n",
              "       'annual_inc', 'verification_status', 'issue_d', 'loan_status',\n",
              "       'purpose', 'dti', 'earliest_cr_line', 'open_acc', 'pub_rec',\n",
              "       'revol_bal', 'revol_util', 'total_acc', 'initial_list_status',\n",
              "       'application_type', 'mort_acc', 'pub_rec_bankruptcies', 'address',\n",
              "       'loan_repaid', 'A2', 'A3', 'A4', 'A5', 'B1', 'B2', 'B3', 'B4', 'B5',\n",
              "       'C1', 'C2', 'C3', 'C4', 'C5', 'D1', 'D2', 'D3', 'D4', 'D5', 'E1', 'E2',\n",
              "       'E3', 'E4', 'E5', 'F1', 'F2', 'F3', 'F4', 'F5', 'G1', 'G2', 'G3', 'G4',\n",
              "       'G5'],\n",
              "      dtype='object')"
            ]
          },
          "metadata": {
            "tags": []
          },
          "execution_count": 64
        }
      ]
    },
    {
      "cell_type": "markdown",
      "metadata": {
        "id": "yhR20uS8GiZK"
      },
      "source": [
        "Home ownership"
      ]
    },
    {
      "cell_type": "code",
      "metadata": {
        "colab": {
          "base_uri": "https://localhost:8080/"
        },
        "id": "3cCuq9KcGtG1",
        "outputId": "50595073-995c-44c9-d903-c88040aa6a96"
      },
      "source": [
        "df['home_ownership'].value_counts()"
      ],
      "execution_count": 44,
      "outputs": [
        {
          "output_type": "execute_result",
          "data": {
            "text/plain": [
              "MORTGAGE    198022\n",
              "RENT        159395\n",
              "OWN          37660\n",
              "OTHER          110\n",
              "NONE            29\n",
              "ANY              3\n",
              "Name: home_ownership, dtype: int64"
            ]
          },
          "metadata": {
            "tags": []
          },
          "execution_count": 44
        }
      ]
    },
    {
      "cell_type": "markdown",
      "metadata": {
        "id": "lcWQvARnHPQh"
      },
      "source": [
        "The majority of the home ownership are under mortage, rent and own. Since the bottom 3 are significantly less, we can just group them together under a categry to reduce the number of feature."
      ]
    },
    {
      "cell_type": "code",
      "metadata": {
        "id": "bHKGJxHvHsLQ"
      },
      "source": [
        "df['home_ownership'] = df['home_ownership'].replace(['NONE','ANY'],'OTHER')"
      ],
      "execution_count": 65,
      "outputs": []
    },
    {
      "cell_type": "code",
      "metadata": {
        "id": "cozdyYDUHwAM"
      },
      "source": [
        "home_dummies = pd.get_dummies(data=df['home_ownership'])"
      ],
      "execution_count": 66,
      "outputs": []
    },
    {
      "cell_type": "code",
      "metadata": {
        "id": "jHWIcsJWHwQB"
      },
      "source": [
        "df.drop('home_ownership',axis=1,inplace=True)"
      ],
      "execution_count": 67,
      "outputs": []
    },
    {
      "cell_type": "code",
      "metadata": {
        "id": "uM6mf7iLHywf"
      },
      "source": [
        "df = pd.concat([df,home_dummies],axis=1)"
      ],
      "execution_count": 68,
      "outputs": []
    },
    {
      "cell_type": "code",
      "metadata": {
        "colab": {
          "base_uri": "https://localhost:8080/"
        },
        "id": "3IHZxyA8H3rv",
        "outputId": "078585d2-1322-454c-8e09-813931a85b3f"
      },
      "source": [
        "df.columns"
      ],
      "execution_count": 69,
      "outputs": [
        {
          "output_type": "execute_result",
          "data": {
            "text/plain": [
              "Index(['loan_amnt', 'term', 'int_rate', 'installment', 'annual_inc',\n",
              "       'verification_status', 'issue_d', 'loan_status', 'purpose', 'dti',\n",
              "       'earliest_cr_line', 'open_acc', 'pub_rec', 'revol_bal', 'revol_util',\n",
              "       'total_acc', 'initial_list_status', 'application_type', 'mort_acc',\n",
              "       'pub_rec_bankruptcies', 'address', 'loan_repaid', 'A2', 'A3', 'A4',\n",
              "       'A5', 'B1', 'B2', 'B3', 'B4', 'B5', 'C1', 'C2', 'C3', 'C4', 'C5', 'D1',\n",
              "       'D2', 'D3', 'D4', 'D5', 'E1', 'E2', 'E3', 'E4', 'E5', 'F1', 'F2', 'F3',\n",
              "       'F4', 'F5', 'G1', 'G2', 'G3', 'G4', 'G5', 'MORTGAGE', 'OTHER', 'OWN',\n",
              "       'RENT'],\n",
              "      dtype='object')"
            ]
          },
          "metadata": {
            "tags": []
          },
          "execution_count": 69
        }
      ]
    },
    {
      "cell_type": "markdown",
      "metadata": {
        "id": "_-rmvQQ_ITGV"
      },
      "source": [
        "Address and Zipcode\n",
        "\n",
        "Adress might be too granular. However, using zipcode might be useful. We can extract zipcode from the address feature."
      ]
    },
    {
      "cell_type": "code",
      "metadata": {
        "id": "igKXjqVEImZf"
      },
      "source": [
        "df['zip_code'] = df['address'].apply(lambda address:address[-5:])"
      ],
      "execution_count": 75,
      "outputs": []
    },
    {
      "cell_type": "markdown",
      "metadata": {
        "id": "K27QYdufKIlo"
      },
      "source": [
        "Converting zip code into dummy variable"
      ]
    },
    {
      "cell_type": "code",
      "metadata": {
        "id": "Wvp58ajdKfOh"
      },
      "source": [
        "zip_dummies = pd.get_dummies(data=df['zip_code'])"
      ],
      "execution_count": 78,
      "outputs": []
    },
    {
      "cell_type": "code",
      "metadata": {
        "id": "CmyJmpfsKh88"
      },
      "source": [
        "df.drop(['zip_code','address'],axis=1,inplace=True)"
      ],
      "execution_count": 79,
      "outputs": []
    },
    {
      "cell_type": "code",
      "metadata": {
        "id": "x8smdQ9RKif5"
      },
      "source": [
        "df = pd.concat([df,zip_dummies],axis=1)"
      ],
      "execution_count": 80,
      "outputs": []
    },
    {
      "cell_type": "markdown",
      "metadata": {
        "id": "3RmM3LYXLbQO"
      },
      "source": [
        "issue_d\n",
        "\n",
        "We wouldn't know beforehand whether or not a loan would be issued when using our model, so in theory we wouldn't have an issue_date, drop this feature."
      ]
    },
    {
      "cell_type": "code",
      "metadata": {
        "id": "PSS6Rla1L5cZ"
      },
      "source": [
        "df.drop('issue_d',axis=1,inplace=True)"
      ],
      "execution_count": 82,
      "outputs": []
    },
    {
      "cell_type": "markdown",
      "metadata": {
        "id": "_3je3T8N9tzc"
      },
      "source": [
        "earliest_cr_line\n",
        "\n",
        "This appears to be a historical time stamp feature. Lets extract the year from this feature and convert it to int type."
      ]
    },
    {
      "cell_type": "code",
      "metadata": {
        "id": "rektYN0s9tzc"
      },
      "source": [
        "df['earliest_cr_year'] = df['earliest_cr_line'].apply(lambda x: int(x[-4:]))"
      ],
      "execution_count": 83,
      "outputs": []
    },
    {
      "cell_type": "code",
      "metadata": {
        "id": "TE89FRjt9tzc"
      },
      "source": [
        "df.drop('earliest_cr_line',axis=1,inplace=True)"
      ],
      "execution_count": 84,
      "outputs": []
    },
    {
      "cell_type": "markdown",
      "metadata": {
        "id": "eGR9XBffGMpi"
      },
      "source": [
        "verification_status, application_type,initial_list_status,purpose\n",
        "\n",
        "Let's convert these columns into dummy variables and concatenate them with the original dataframe."
      ]
    },
    {
      "cell_type": "code",
      "metadata": {
        "id": "O4ad-qBbGLsk"
      },
      "source": [
        "dummies_var = pd.get_dummies(data=df[['verification_status', 'application_type','initial_list_status','purpose']], drop_first=True)"
      ],
      "execution_count": 70,
      "outputs": []
    },
    {
      "cell_type": "code",
      "metadata": {
        "id": "lYyhv9Nf9tzW"
      },
      "source": [
        "df.drop( ['verification_status', 'application_type','initial_list_status','purpose'],axis=1,inplace=True)"
      ],
      "execution_count": 71,
      "outputs": []
    },
    {
      "cell_type": "code",
      "metadata": {
        "id": "2aSUAOiJ9tzX"
      },
      "source": [
        "df = pd.concat([df,dummies_var],axis=1)"
      ],
      "execution_count": 72,
      "outputs": []
    },
    {
      "cell_type": "code",
      "metadata": {
        "id": "o1jogxOgOJ5Y"
      },
      "source": [
        ""
      ],
      "execution_count": null,
      "outputs": []
    },
    {
      "cell_type": "markdown",
      "metadata": {
        "id": "BIMqaDv19tzd"
      },
      "source": [
        "# Train Test Split"
      ]
    },
    {
      "cell_type": "markdown",
      "metadata": {
        "id": "3rN2Pg4C9tzd"
      },
      "source": [
        "Drop the load_status column we created earlier, since its a duplicate of the loan_repaid column. We'll use the loan_repaid column since its already in 0s and 1s."
      ]
    },
    {
      "cell_type": "code",
      "metadata": {
        "id": "DOft9DUS9tzd"
      },
      "source": [
        "df.drop('loan_status',axis=1,inplace=True)"
      ],
      "execution_count": 89,
      "outputs": []
    },
    {
      "cell_type": "code",
      "metadata": {
        "id": "_6DMVxTE9tze"
      },
      "source": [
        "X = df.drop('loan_repaid',axis=1).values\n",
        "y = df['loan_repaid'].values"
      ],
      "execution_count": 90,
      "outputs": []
    },
    {
      "cell_type": "markdown",
      "metadata": {
        "id": "euK5S_fPQJNS"
      },
      "source": [
        "Now, we split the data into training and testing set"
      ]
    },
    {
      "cell_type": "code",
      "metadata": {
        "id": "4RP6Axh49tze"
      },
      "source": [
        "X_train, X_test, y_train, y_test = train_test_split(X,y,test_size=0.25)"
      ],
      "execution_count": 91,
      "outputs": []
    },
    {
      "cell_type": "markdown",
      "metadata": {
        "id": "50jA70a2GIXD"
      },
      "source": [
        "# Normalizing the Data\n",
        "\n",
        "**TASK: Use a MinMaxScaler to normalize the feature data X_train and X_test. Recall we don't want data leakge from the test set so we only fit on the X_train data.**"
      ]
    },
    {
      "cell_type": "code",
      "metadata": {
        "id": "cMwzUlNbGIXE"
      },
      "source": [
        "scaler = MinMaxScaler()"
      ],
      "execution_count": 99,
      "outputs": []
    },
    {
      "cell_type": "code",
      "metadata": {
        "id": "myKwRd8gGIXE"
      },
      "source": [
        "X_train = scaler.fit_transform(X_train)"
      ],
      "execution_count": 100,
      "outputs": []
    },
    {
      "cell_type": "code",
      "metadata": {
        "id": "4yFBN95_GIXE"
      },
      "source": [
        "X_test = scaler.transform(X_test)"
      ],
      "execution_count": 101,
      "outputs": []
    },
    {
      "cell_type": "markdown",
      "metadata": {
        "id": "LQEXyB-L9tzh"
      },
      "source": [
        "# Creating the Model\n"
      ]
    },
    {
      "cell_type": "code",
      "metadata": {
        "id": "fBZBSQWG9tzh"
      },
      "source": [
        "\n",
        "model = Sequential()\n",
        "\n",
        "#input layer\n",
        "model.add(Dense(units=78,activation='relu'))\n",
        "model.add(Dropout(0.2))\n",
        "\n",
        "#hidden layer\n",
        "model.add(Dense(units=39,activation='relu'))\n",
        "model.add(Dropout(0.2))\n",
        "\n",
        "#hidden layer\n",
        "model.add(Dense(units=19,activation='relu'))\n",
        "model.add(Dropout(0.2))\n",
        "\n",
        "#output layer\n",
        "model.add(Dense(units=1,activation='sigmoid'))\n",
        "\n",
        "model.compile(loss='binary_crossentropy', optimizer='adam')"
      ],
      "execution_count": 102,
      "outputs": []
    },
    {
      "cell_type": "markdown",
      "metadata": {
        "id": "RPYnvdv6SZC5"
      },
      "source": [
        "Early stoppage\n",
        "\n",
        "Early stoppage enable us to stop the training when the model stop to improve for a certain epoch."
      ]
    },
    {
      "cell_type": "code",
      "metadata": {
        "id": "cTAhMDRS9tzh"
      },
      "source": [
        "early_stop = EarlyStopping(monitor='val_loss', mode='min', verbose=1, patience=10)"
      ],
      "execution_count": 94,
      "outputs": []
    },
    {
      "cell_type": "code",
      "metadata": {
        "id": "aYqCHw_u9tzi",
        "colab": {
          "base_uri": "https://localhost:8080/"
        },
        "outputId": "8499c6e8-f326-4b19-8a14-0456eb3853d3"
      },
      "source": [
        "model.fit(x=X_train, \n",
        "          y=y_train, \n",
        "          epochs=25,\n",
        "          validation_data=(X_test, y_test), verbose=1,\n",
        "          callbacks=[early_stop]\n",
        "          )"
      ],
      "execution_count": 103,
      "outputs": [
        {
          "output_type": "stream",
          "text": [
            "Epoch 1/25\n",
            "9263/9263 [==============================] - 18s 2ms/step - loss: 0.2959 - val_loss: 0.2622\n",
            "Epoch 2/25\n",
            "9263/9263 [==============================] - 17s 2ms/step - loss: 0.2617 - val_loss: 0.2613\n",
            "Epoch 3/25\n",
            "9263/9263 [==============================] - 17s 2ms/step - loss: 0.2616 - val_loss: 0.2615\n",
            "Epoch 4/25\n",
            "9263/9263 [==============================] - 17s 2ms/step - loss: 0.2602 - val_loss: 0.2616\n",
            "Epoch 5/25\n",
            "9263/9263 [==============================] - 17s 2ms/step - loss: 0.2613 - val_loss: 0.2608\n",
            "Epoch 6/25\n",
            "9263/9263 [==============================] - 17s 2ms/step - loss: 0.2606 - val_loss: 0.2605\n",
            "Epoch 7/25\n",
            "9263/9263 [==============================] - 17s 2ms/step - loss: 0.2595 - val_loss: 0.2603\n",
            "Epoch 8/25\n",
            "9263/9263 [==============================] - 17s 2ms/step - loss: 0.2600 - val_loss: 0.2609\n",
            "Epoch 9/25\n",
            "9263/9263 [==============================] - 17s 2ms/step - loss: 0.2611 - val_loss: 0.2611\n",
            "Epoch 10/25\n",
            "9263/9263 [==============================] - 17s 2ms/step - loss: 0.2599 - val_loss: 0.2609\n",
            "Epoch 11/25\n",
            "9263/9263 [==============================] - 17s 2ms/step - loss: 0.2604 - val_loss: 0.2607\n",
            "Epoch 12/25\n",
            "9263/9263 [==============================] - 17s 2ms/step - loss: 0.2606 - val_loss: 0.2604\n",
            "Epoch 13/25\n",
            "9263/9263 [==============================] - 17s 2ms/step - loss: 0.2577 - val_loss: 0.2605\n",
            "Epoch 14/25\n",
            "9263/9263 [==============================] - 17s 2ms/step - loss: 0.2596 - val_loss: 0.2602\n",
            "Epoch 15/25\n",
            "9263/9263 [==============================] - 17s 2ms/step - loss: 0.2592 - val_loss: 0.2611\n",
            "Epoch 16/25\n",
            "9263/9263 [==============================] - 17s 2ms/step - loss: 0.2585 - val_loss: 0.2605\n",
            "Epoch 17/25\n",
            "9263/9263 [==============================] - 17s 2ms/step - loss: 0.2572 - val_loss: 0.2619\n",
            "Epoch 18/25\n",
            "9263/9263 [==============================] - 17s 2ms/step - loss: 0.2576 - val_loss: 0.2602\n",
            "Epoch 19/25\n",
            "9263/9263 [==============================] - 17s 2ms/step - loss: 0.2575 - val_loss: 0.2603\n",
            "Epoch 20/25\n",
            "9263/9263 [==============================] - 17s 2ms/step - loss: 0.2575 - val_loss: 0.2601\n",
            "Epoch 21/25\n",
            "9263/9263 [==============================] - 17s 2ms/step - loss: 0.2574 - val_loss: 0.2600\n",
            "Epoch 22/25\n",
            "9263/9263 [==============================] - 17s 2ms/step - loss: 0.2588 - val_loss: 0.2600\n",
            "Epoch 23/25\n",
            "9263/9263 [==============================] - 17s 2ms/step - loss: 0.2587 - val_loss: 0.2601\n",
            "Epoch 24/25\n",
            "9263/9263 [==============================] - 17s 2ms/step - loss: 0.2579 - val_loss: 0.2612\n",
            "Epoch 25/25\n",
            "9263/9263 [==============================] - 17s 2ms/step - loss: 0.2575 - val_loss: 0.2600\n"
          ],
          "name": "stdout"
        },
        {
          "output_type": "execute_result",
          "data": {
            "text/plain": [
              "<tensorflow.python.keras.callbacks.History at 0x7f39e445a250>"
            ]
          },
          "metadata": {
            "tags": []
          },
          "execution_count": 103
        }
      ]
    },
    {
      "cell_type": "code",
      "metadata": {
        "id": "Ak2IsGMF9tzj"
      },
      "source": [
        "model_loss = pd.DataFrame(model.history.history)"
      ],
      "execution_count": 104,
      "outputs": []
    },
    {
      "cell_type": "code",
      "metadata": {
        "id": "_Ikv_0yJ9tzk",
        "colab": {
          "base_uri": "https://localhost:8080/",
          "height": 364
        },
        "outputId": "0f35a20b-af8d-4a8a-ebf8-a19eb4bb60d9"
      },
      "source": [
        "model_loss.plot()"
      ],
      "execution_count": 105,
      "outputs": [
        {
          "output_type": "execute_result",
          "data": {
            "text/plain": [
              "<matplotlib.axes._subplots.AxesSubplot at 0x7f39e4025b50>"
            ]
          },
          "metadata": {
            "tags": []
          },
          "execution_count": 105
        },
        {
          "output_type": "display_data",
          "data": {
            "image/png": "[encoded data removed]",
            "text/plain": [
              "<Figure size 576x396 with 1 Axes>"
            ]
          },
          "metadata": {
            "tags": []
          }
        }
      ]
    },
    {
      "cell_type": "markdown",
      "metadata": {
        "id": "ASEYM9jRhh7s"
      },
      "source": [
        "Note: The training loss and validation loss decreases untill no  much improvement are observed.\n",
        "\n",
        "Next, let's look at the confusion matrix for this model."
      ]
    },
    {
      "cell_type": "code",
      "metadata": {
        "id": "tzyCko6o9tzl"
      },
      "source": [
        "predictions = model.predict_classes(X_test)"
      ],
      "execution_count": null,
      "outputs": []
    },
    {
      "cell_type": "code",
      "metadata": {
        "id": "rgyGl6Tl9tzl",
        "colab": {
          "base_uri": "https://localhost:8080/"
        },
        "outputId": "f412fbc8-71ae-4c84-a265-5d14fadebe17"
      },
      "source": [
        "print(classification_report(y_test,predictions))"
      ],
      "execution_count": 108,
      "outputs": [
        {
          "output_type": "stream",
          "text": [
            "              precision    recall  f1-score   support\n",
            "\n",
            "           0       0.94      0.46      0.62     19355\n",
            "           1       0.88      0.99      0.93     79450\n",
            "\n",
            "    accuracy                           0.89     98805\n",
            "   macro avg       0.91      0.73      0.78     98805\n",
            "weighted avg       0.89      0.89      0.87     98805\n",
            "\n"
          ],
          "name": "stdout"
        }
      ]
    },
    {
      "cell_type": "code",
      "metadata": {
        "colab": {
          "base_uri": "https://localhost:8080/"
        },
        "id": "JYtKCxltj51K",
        "outputId": "e7b6f163-eed8-48df-d8b1-4fe2c80e9934"
      },
      "source": [
        "confusion_matrix(y_test,predictions)"
      ],
      "execution_count": 110,
      "outputs": [
        {
          "output_type": "execute_result",
          "data": {
            "text/plain": [
              "array([[ 8904, 10451],\n",
              "       [  559, 78891]])"
            ]
          },
          "metadata": {
            "tags": []
          },
          "execution_count": 110
        }
      ]
    },
    {
      "cell_type": "markdown",
      "metadata": {
        "id": "Op2IDo7_iHfV"
      },
      "source": [
        "* Our model seems to predicts correctly with a accuracy of 0.89\n",
        "\n",
        "* This tally to what we had know. The dataset comprise of ~0.8 of fully paid loan entries. So, the performance of this models reflects that.\n",
        "\n",
        "* However, the performance for class 0 is kind of low when compare to class 1\n",
        "\n",
        "* This is due to the nature of unbalanced class dataset.\n",
        "\n",
        "Improvement to explore:\n",
        "* No. of NN layers\n",
        "* Dropout parameter\n",
        "\n",
        "\n"
      ]
    }
  ]
}