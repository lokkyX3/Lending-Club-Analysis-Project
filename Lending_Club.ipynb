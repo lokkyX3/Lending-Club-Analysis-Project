{
  "nbformat": 4,
  "nbformat_minor": 0,
  "metadata": {
    "colab": {
      "name": "Lending Club.ipynb",
      "provenance": [],
      "collapsed_sections": [],
      "authorship_tag": "ABX9TyNXLD5YJ/xvUQMbcpOJFVGP",
      "include_colab_link": true
    },
    "kernelspec": {
      "name": "python3",
      "display_name": "Python 3"
    },
    "language_info": {
      "name": "python"
    }
  },
  "cells": [
    {
      "cell_type": "markdown",
      "metadata": {
        "id": "view-in-github",
        "colab_type": "text"
      },
      "source": [
        "<a href=\"https://colab.research.google.com/github/lokkyX3/Lending-Club-Analysis-Project/blob/main/Lending_Club.ipynb\" target=\"_parent\"><img src=\"https://colab.research.google.com/assets/colab-badge.svg\" alt=\"Open In Colab\"/></a>"
      ]
    },
    {
      "cell_type": "markdown",
      "metadata": {
        "id": "u7xfD4RN37YI"
      },
      "source": [
        "Loading packages and data "
      ]
    },
    {
      "cell_type": "code",
      "metadata": {
        "id": "B1YTIHN19tys",
        "cellView": "form"
      },
      "source": [
        "#@title\n",
        "import pandas as pd\n",
        "import numpy as np\n",
        "import matplotlib.pyplot as plt\n",
        "import seaborn as sns\n",
        "%matplotlib inline\n"
      ],
      "execution_count": null,
      "outputs": []
    },
    {
      "cell_type": "code",
      "metadata": {
        "id": "etAHdZCPg6be",
        "cellView": "form"
      },
      "source": [
        "#@title\n",
        "from google.colab import drive\n",
        "drive.mount('/content/drive')"
      ],
      "execution_count": null,
      "outputs": []
    },
    {
      "cell_type": "code",
      "metadata": {
        "id": "ubDDJKuY9tyt"
      },
      "source": [
        "df = pd.read_csv('/content/drive/My Drive/Colab Notebooks/NN and DL Udemy/DATA/lending_club_loan_two.csv')"
      ],
      "execution_count": null,
      "outputs": []
    },
    {
      "cell_type": "markdown",
      "metadata": {
        "id": "rJowc81v2BMo"
      },
      "source": [
        "What kind of features we had in this dataset?"
      ]
    },
    {
      "cell_type": "code",
      "metadata": {
        "id": "C77P_1BtgyTu",
        "colab": {
          "base_uri": "https://localhost:8080/"
        },
        "outputId": "16f5f7fe-83c2-47f8-c52f-65ec0cd524c0"
      },
      "source": [
        "df.info(verbose=True, null_counts=True)"
      ],
      "execution_count": null,
      "outputs": [
        {
          "output_type": "stream",
          "text": [
            "<class 'pandas.core.frame.DataFrame'>\n",
            "RangeIndex: 396030 entries, 0 to 396029\n",
            "Data columns (total 27 columns):\n",
            " #   Column                Non-Null Count   Dtype  \n",
            "---  ------                --------------   -----  \n",
            " 0   loan_amnt             396030 non-null  float64\n",
            " 1   term                  396030 non-null  object \n",
            " 2   int_rate              396030 non-null  float64\n",
            " 3   installment           396030 non-null  float64\n",
            " 4   grade                 396030 non-null  object \n",
            " 5   sub_grade             396030 non-null  object \n",
            " 6   emp_title             373103 non-null  object \n",
            " 7   emp_length            377729 non-null  object \n",
            " 8   home_ownership        396030 non-null  object \n",
            " 9   annual_inc            396030 non-null  float64\n",
            " 10  verification_status   396030 non-null  object \n",
            " 11  issue_d               396030 non-null  object \n",
            " 12  loan_status           396030 non-null  object \n",
            " 13  purpose               396030 non-null  object \n",
            " 14  title                 394275 non-null  object \n",
            " 15  dti                   396030 non-null  float64\n",
            " 16  earliest_cr_line      396030 non-null  object \n",
            " 17  open_acc              396030 non-null  float64\n",
            " 18  pub_rec               396030 non-null  float64\n",
            " 19  revol_bal             396030 non-null  float64\n",
            " 20  revol_util            395754 non-null  float64\n",
            " 21  total_acc             396030 non-null  float64\n",
            " 22  initial_list_status   396030 non-null  object \n",
            " 23  application_type      396030 non-null  object \n",
            " 24  mort_acc              358235 non-null  float64\n",
            " 25  pub_rec_bankruptcies  395495 non-null  float64\n",
            " 26  address               396030 non-null  object \n",
            "dtypes: float64(12), object(15)\n",
            "memory usage: 81.6+ MB\n"
          ],
          "name": "stdout"
        }
      ]
    },
    {
      "cell_type": "markdown",
      "metadata": {
        "id": "oFuqoMpW6Vzs"
      },
      "source": [
        "Note: For the decriptions of the features, please refer to Read Me."
      ]
    },
    {
      "cell_type": "code",
      "metadata": {
        "id": "9TbQqVRTiQW5",
        "colab": {
          "base_uri": "https://localhost:8080/",
          "height": 402
        },
        "outputId": "8232a5f0-0955-497c-b4a3-a75f0d58d420"
      },
      "source": [
        "df.describe().T"
      ],
      "execution_count": null,
      "outputs": [
        {
          "output_type": "execute_result",
          "data": {
            "text/html": [
              "<div>\n",
              "<style scoped>\n",
              "    .dataframe tbody tr th:only-of-type {\n",
              "        vertical-align: middle;\n",
              "    }\n",
              "\n",
              "    .dataframe tbody tr th {\n",
              "        vertical-align: top;\n",
              "    }\n",
              "\n",
              "    .dataframe thead th {\n",
              "        text-align: right;\n",
              "    }\n",
              "</style>\n",
              "<table border=\"1\" class=\"dataframe\">\n",
              "  <thead>\n",
              "    <tr style=\"text-align: right;\">\n",
              "      <th></th>\n",
              "      <th>count</th>\n",
              "      <th>mean</th>\n",
              "      <th>std</th>\n",
              "      <th>min</th>\n",
              "      <th>25%</th>\n",
              "      <th>50%</th>\n",
              "      <th>75%</th>\n",
              "      <th>max</th>\n",
              "    </tr>\n",
              "  </thead>\n",
              "  <tbody>\n",
              "    <tr>\n",
              "      <th>loan_amnt</th>\n",
              "      <td>396030.0</td>\n",
              "      <td>14113.888089</td>\n",
              "      <td>8357.441341</td>\n",
              "      <td>500.00</td>\n",
              "      <td>8000.00</td>\n",
              "      <td>12000.00</td>\n",
              "      <td>20000.00</td>\n",
              "      <td>40000.00</td>\n",
              "    </tr>\n",
              "    <tr>\n",
              "      <th>int_rate</th>\n",
              "      <td>396030.0</td>\n",
              "      <td>13.639400</td>\n",
              "      <td>4.472157</td>\n",
              "      <td>5.32</td>\n",
              "      <td>10.49</td>\n",
              "      <td>13.33</td>\n",
              "      <td>16.49</td>\n",
              "      <td>30.99</td>\n",
              "    </tr>\n",
              "    <tr>\n",
              "      <th>installment</th>\n",
              "      <td>396030.0</td>\n",
              "      <td>431.849698</td>\n",
              "      <td>250.727790</td>\n",
              "      <td>16.08</td>\n",
              "      <td>250.33</td>\n",
              "      <td>375.43</td>\n",
              "      <td>567.30</td>\n",
              "      <td>1533.81</td>\n",
              "    </tr>\n",
              "    <tr>\n",
              "      <th>annual_inc</th>\n",
              "      <td>396030.0</td>\n",
              "      <td>74203.175798</td>\n",
              "      <td>61637.621158</td>\n",
              "      <td>0.00</td>\n",
              "      <td>45000.00</td>\n",
              "      <td>64000.00</td>\n",
              "      <td>90000.00</td>\n",
              "      <td>8706582.00</td>\n",
              "    </tr>\n",
              "    <tr>\n",
              "      <th>dti</th>\n",
              "      <td>396030.0</td>\n",
              "      <td>17.379514</td>\n",
              "      <td>18.019092</td>\n",
              "      <td>0.00</td>\n",
              "      <td>11.28</td>\n",
              "      <td>16.91</td>\n",
              "      <td>22.98</td>\n",
              "      <td>9999.00</td>\n",
              "    </tr>\n",
              "    <tr>\n",
              "      <th>open_acc</th>\n",
              "      <td>396030.0</td>\n",
              "      <td>11.311153</td>\n",
              "      <td>5.137649</td>\n",
              "      <td>0.00</td>\n",
              "      <td>8.00</td>\n",
              "      <td>10.00</td>\n",
              "      <td>14.00</td>\n",
              "      <td>90.00</td>\n",
              "    </tr>\n",
              "    <tr>\n",
              "      <th>pub_rec</th>\n",
              "      <td>396030.0</td>\n",
              "      <td>0.178191</td>\n",
              "      <td>0.530671</td>\n",
              "      <td>0.00</td>\n",
              "      <td>0.00</td>\n",
              "      <td>0.00</td>\n",
              "      <td>0.00</td>\n",
              "      <td>86.00</td>\n",
              "    </tr>\n",
              "    <tr>\n",
              "      <th>revol_bal</th>\n",
              "      <td>396030.0</td>\n",
              "      <td>15844.539853</td>\n",
              "      <td>20591.836109</td>\n",
              "      <td>0.00</td>\n",
              "      <td>6025.00</td>\n",
              "      <td>11181.00</td>\n",
              "      <td>19620.00</td>\n",
              "      <td>1743266.00</td>\n",
              "    </tr>\n",
              "    <tr>\n",
              "      <th>revol_util</th>\n",
              "      <td>395754.0</td>\n",
              "      <td>53.791749</td>\n",
              "      <td>24.452193</td>\n",
              "      <td>0.00</td>\n",
              "      <td>35.80</td>\n",
              "      <td>54.80</td>\n",
              "      <td>72.90</td>\n",
              "      <td>892.30</td>\n",
              "    </tr>\n",
              "    <tr>\n",
              "      <th>total_acc</th>\n",
              "      <td>396030.0</td>\n",
              "      <td>25.414744</td>\n",
              "      <td>11.886991</td>\n",
              "      <td>2.00</td>\n",
              "      <td>17.00</td>\n",
              "      <td>24.00</td>\n",
              "      <td>32.00</td>\n",
              "      <td>151.00</td>\n",
              "    </tr>\n",
              "    <tr>\n",
              "      <th>mort_acc</th>\n",
              "      <td>358235.0</td>\n",
              "      <td>1.813991</td>\n",
              "      <td>2.147930</td>\n",
              "      <td>0.00</td>\n",
              "      <td>0.00</td>\n",
              "      <td>1.00</td>\n",
              "      <td>3.00</td>\n",
              "      <td>34.00</td>\n",
              "    </tr>\n",
              "    <tr>\n",
              "      <th>pub_rec_bankruptcies</th>\n",
              "      <td>395495.0</td>\n",
              "      <td>0.121648</td>\n",
              "      <td>0.356174</td>\n",
              "      <td>0.00</td>\n",
              "      <td>0.00</td>\n",
              "      <td>0.00</td>\n",
              "      <td>0.00</td>\n",
              "      <td>8.00</td>\n",
              "    </tr>\n",
              "  </tbody>\n",
              "</table>\n",
              "</div>"
            ],
            "text/plain": [
              "                         count          mean  ...       75%         max\n",
              "loan_amnt             396030.0  14113.888089  ...  20000.00    40000.00\n",
              "int_rate              396030.0     13.639400  ...     16.49       30.99\n",
              "installment           396030.0    431.849698  ...    567.30     1533.81\n",
              "annual_inc            396030.0  74203.175798  ...  90000.00  8706582.00\n",
              "dti                   396030.0     17.379514  ...     22.98     9999.00\n",
              "open_acc              396030.0     11.311153  ...     14.00       90.00\n",
              "pub_rec               396030.0      0.178191  ...      0.00       86.00\n",
              "revol_bal             396030.0  15844.539853  ...  19620.00  1743266.00\n",
              "revol_util            395754.0     53.791749  ...     72.90      892.30\n",
              "total_acc             396030.0     25.414744  ...     32.00      151.00\n",
              "mort_acc              358235.0      1.813991  ...      3.00       34.00\n",
              "pub_rec_bankruptcies  395495.0      0.121648  ...      0.00        8.00\n",
              "\n",
              "[12 rows x 8 columns]"
            ]
          },
          "metadata": {
            "tags": []
          },
          "execution_count": 10
        }
      ]
    },
    {
      "cell_type": "markdown",
      "metadata": {
        "id": "6rSVO6X82nbf"
      },
      "source": [
        "Since this is a classification problem, we should find out distribution of the label feature."
      ]
    },
    {
      "cell_type": "code",
      "metadata": {
        "id": "yxOCyCAknEHS",
        "colab": {
          "base_uri": "https://localhost:8080/",
          "height": 297
        },
        "outputId": "a83c605a-b349-4675-9877-b40515a96ba5"
      },
      "source": [
        "sns.countplot(x='loan_status',data=df)"
      ],
      "execution_count": null,
      "outputs": [
        {
          "output_type": "execute_result",
          "data": {
            "text/plain": [
              "<matplotlib.axes._subplots.AxesSubplot at 0x7f3b5ef9ec50>"
            ]
          },
          "metadata": {
            "tags": []
          },
          "execution_count": 169
        },
        {
          "output_type": "display_data",
          "data": {
            "image/png": "[encoded data removed]",
            "text/plain": [
              "<Figure size 432x288 with 1 Axes>"
            ]
          },
          "metadata": {
            "tags": [],
            "needs_background": "light"
          }
        }
      ]
    },
    {
      "cell_type": "markdown",
      "metadata": {
        "id": "Gb63gjcs4jYk"
      },
      "source": [
        "Note: This is a highly unbalanced dataset as there are alot more 'Fully Paid' than 'Charged Off' entries "
      ]
    },
    {
      "cell_type": "code",
      "metadata": {
        "id": "GaEW1LMsnQcQ",
        "colab": {
          "base_uri": "https://localhost:8080/",
          "height": 282
        },
        "outputId": "528007c2-8ec5-448c-ac1a-6261e08ae29a"
      },
      "source": [
        "plt.figure(figsize=(12, 4))\n",
        "df['loan_amnt'].plot.hist(bins=40)\n"
      ],
      "execution_count": null,
      "outputs": [
        {
          "output_type": "execute_result",
          "data": {
            "text/plain": [
              "<matplotlib.axes._subplots.AxesSubplot at 0x7fc1b274d690>"
            ]
          },
          "metadata": {
            "tags": []
          },
          "execution_count": 7
        },
        {
          "output_type": "display_data",
          "data": {
            "image/png": "[encoded data removed]",
            "text/plain": [
              "<Figure size 864x288 with 1 Axes>"
            ]
          },
          "metadata": {
            "tags": [],
            "needs_background": "light"
          }
        }
      ]
    },
    {
      "cell_type": "code",
      "metadata": {
        "id": "mHyJrOttqoEL"
      },
      "source": [
        "plt.figure(figsize=(12, 8))\n",
        "sns.heatmap(df.corr(),annot=True,cmap='RdBu')"
      ],
      "execution_count": null,
      "outputs": []
    },
    {
      "cell_type": "code",
      "metadata": {
        "colab": {
          "base_uri": "https://localhost:8080/",
          "height": 296
        },
        "id": "LPGW7X_uuV4O",
        "outputId": "db92be0b-cc75-41c8-b4e4-8f60ba7d0e1f"
      },
      "source": [
        "sns.scatterplot(x='installment',y='loan_amnt',data=df)"
      ],
      "execution_count": null,
      "outputs": [
        {
          "output_type": "execute_result",
          "data": {
            "text/plain": [
              "<matplotlib.axes._subplots.AxesSubplot at 0x7f3b5ef8c650>"
            ]
          },
          "metadata": {
            "tags": []
          },
          "execution_count": 170
        },
        {
          "output_type": "display_data",
          "data": {
            "image/png": "[encoded data removed]",
            "text/plain": [
              "<Figure size 432x288 with 1 Axes>"
            ]
          },
          "metadata": {
            "tags": [],
            "needs_background": "light"
          }
        }
      ]
    },
    {
      "cell_type": "code",
      "metadata": {
        "colab": {
          "base_uri": "https://localhost:8080/",
          "height": 297
        },
        "id": "hsTJQpVGu9eQ",
        "outputId": "6ede9ee0-8288-4865-8376-47e46282c787"
      },
      "source": [
        "sns.boxplot(x='loan_status',y='loan_amnt',data=df)"
      ],
      "execution_count": null,
      "outputs": [
        {
          "output_type": "execute_result",
          "data": {
            "text/plain": [
              "<matplotlib.axes._subplots.AxesSubplot at 0x7f3b5f98c050>"
            ]
          },
          "metadata": {
            "tags": []
          },
          "execution_count": 156
        },
        {
          "output_type": "display_data",
          "data": {
            "image/png": "[encoded data removed]",
            "text/plain": [
              "<Figure size 432x288 with 1 Axes>"
            ]
          },
          "metadata": {
            "tags": [],
            "needs_background": "light"
          }
        }
      ]
    },
    {
      "cell_type": "code",
      "metadata": {
        "colab": {
          "base_uri": "https://localhost:8080/",
          "height": 166
        },
        "id": "FAtyH-wt311x",
        "outputId": "797ba603-cfb6-4dc7-b2a0-7913077d0577"
      },
      "source": [
        "df[['loan_amnt','loan_status']].groupby('loan_status').describe()"
      ],
      "execution_count": null,
      "outputs": [
        {
          "output_type": "execute_result",
          "data": {
            "text/html": [
              "<div>\n",
              "<style scoped>\n",
              "    .dataframe tbody tr th:only-of-type {\n",
              "        vertical-align: middle;\n",
              "    }\n",
              "\n",
              "    .dataframe tbody tr th {\n",
              "        vertical-align: top;\n",
              "    }\n",
              "\n",
              "    .dataframe thead tr th {\n",
              "        text-align: left;\n",
              "    }\n",
              "\n",
              "    .dataframe thead tr:last-of-type th {\n",
              "        text-align: right;\n",
              "    }\n",
              "</style>\n",
              "<table border=\"1\" class=\"dataframe\">\n",
              "  <thead>\n",
              "    <tr>\n",
              "      <th></th>\n",
              "      <th colspan=\"8\" halign=\"left\">loan_amnt</th>\n",
              "    </tr>\n",
              "    <tr>\n",
              "      <th></th>\n",
              "      <th>count</th>\n",
              "      <th>mean</th>\n",
              "      <th>std</th>\n",
              "      <th>min</th>\n",
              "      <th>25%</th>\n",
              "      <th>50%</th>\n",
              "      <th>75%</th>\n",
              "      <th>max</th>\n",
              "    </tr>\n",
              "    <tr>\n",
              "      <th>loan_status</th>\n",
              "      <th></th>\n",
              "      <th></th>\n",
              "      <th></th>\n",
              "      <th></th>\n",
              "      <th></th>\n",
              "      <th></th>\n",
              "      <th></th>\n",
              "      <th></th>\n",
              "    </tr>\n",
              "  </thead>\n",
              "  <tbody>\n",
              "    <tr>\n",
              "      <th>Charged Off</th>\n",
              "      <td>77673.0</td>\n",
              "      <td>15126.300967</td>\n",
              "      <td>8505.090557</td>\n",
              "      <td>1000.0</td>\n",
              "      <td>8525.0</td>\n",
              "      <td>14000.0</td>\n",
              "      <td>20000.0</td>\n",
              "      <td>40000.0</td>\n",
              "    </tr>\n",
              "    <tr>\n",
              "      <th>Fully Paid</th>\n",
              "      <td>318357.0</td>\n",
              "      <td>13866.878771</td>\n",
              "      <td>8302.319699</td>\n",
              "      <td>500.0</td>\n",
              "      <td>7500.0</td>\n",
              "      <td>12000.0</td>\n",
              "      <td>19225.0</td>\n",
              "      <td>40000.0</td>\n",
              "    </tr>\n",
              "  </tbody>\n",
              "</table>\n",
              "</div>"
            ],
            "text/plain": [
              "            loan_amnt                             ...                           \n",
              "                count          mean          std  ...      50%      75%      max\n",
              "loan_status                                       ...                           \n",
              "Charged Off   77673.0  15126.300967  8505.090557  ...  14000.0  20000.0  40000.0\n",
              "Fully Paid   318357.0  13866.878771  8302.319699  ...  12000.0  19225.0  40000.0\n",
              "\n",
              "[2 rows x 8 columns]"
            ]
          },
          "metadata": {
            "tags": []
          },
          "execution_count": 65
        }
      ]
    },
    {
      "cell_type": "code",
      "metadata": {
        "colab": {
          "base_uri": "https://localhost:8080/",
          "height": 296
        },
        "id": "_FHDGp-z4I_O",
        "outputId": "59e2cd3c-79fc-4ca8-8ade-40ab9c96207b"
      },
      "source": [
        "sns.countplot(x='grade',hue='loan_status',data=df.sort_values(by='grade'))"
      ],
      "execution_count": null,
      "outputs": [
        {
          "output_type": "execute_result",
          "data": {
            "text/plain": [
              "<matplotlib.axes._subplots.AxesSubplot at 0x7f3b5f60d8d0>"
            ]
          },
          "metadata": {
            "tags": []
          },
          "execution_count": 157
        },
        {
          "output_type": "display_data",
          "data": {
            "image/png": "[encoded data removed]",
            "text/plain": [
              "<Figure size 432x288 with 1 Axes>"
            ]
          },
          "metadata": {
            "tags": [],
            "needs_background": "light"
          }
        }
      ]
    },
    {
      "cell_type": "code",
      "metadata": {
        "id": "LKSJDJlxw54B",
        "colab": {
          "base_uri": "https://localhost:8080/",
          "height": 298
        },
        "outputId": "7a0dd81b-8626-46af-be6e-cf0a559ab43f"
      },
      "source": [
        "def magnify():\n",
        "    return [dict(selector=\"th\",\n",
        "                 props=[(\"font-size\", \"12pt\")]),\n",
        "            dict(selector=\"td\",\n",
        "                 props=[('padding', \"0em 0em\")]),\n",
        "            dict(selector=\"th:hover\",\n",
        "                 props=[(\"font-size\", \"20pt\")]),\n",
        "            dict(selector=\"tr:hover td:hover\",\n",
        "                 props=[('max-width', '200px'),\n",
        "                        ('font-size', '25pt')])]\n",
        "            \n",
        "df_bar=df[['loan_status','grade']].groupby('grade')['loan_status'].value_counts().reset_index(name='count')\n",
        "df_bar.style.bar(subset='count').hide_index().highlight_max(subset='loan_status',color='#676967').set_table_styles(magnify())"
      ],
      "execution_count": null,
      "outputs": [
        {
          "output_type": "execute_result",
          "data": {
            "text/html": [
              "<style  type=\"text/css\" >\n",
              "    #T_7ad9b024_a1a7_11eb_80fb_0242ac1c0002 th {\n",
              "          font-size: 12pt;\n",
              "    }    #T_7ad9b024_a1a7_11eb_80fb_0242ac1c0002 td {\n",
              "          padding: 0em 0em;\n",
              "    }    #T_7ad9b024_a1a7_11eb_80fb_0242ac1c0002 th:hover {\n",
              "          font-size: 20pt;\n",
              "    }    #T_7ad9b024_a1a7_11eb_80fb_0242ac1c0002 tr:hover td:hover {\n",
              "          max-width: 200px;\n",
              "          font-size: 25pt;\n",
              "    }#T_7ad9b024_a1a7_11eb_80fb_0242ac1c0002row0_col1,#T_7ad9b024_a1a7_11eb_80fb_0242ac1c0002row2_col1,#T_7ad9b024_a1a7_11eb_80fb_0242ac1c0002row4_col1,#T_7ad9b024_a1a7_11eb_80fb_0242ac1c0002row6_col1,#T_7ad9b024_a1a7_11eb_80fb_0242ac1c0002row8_col1,#T_7ad9b024_a1a7_11eb_80fb_0242ac1c0002row10_col1,#T_7ad9b024_a1a7_11eb_80fb_0242ac1c0002row12_col1{\n",
              "            background-color:  #676967;\n",
              "        }#T_7ad9b024_a1a7_11eb_80fb_0242ac1c0002row0_col2{\n",
              "            width:  10em;\n",
              "             height:  80%;\n",
              "            background:  linear-gradient(90deg,#d65f5f 58.7%, transparent 58.7%);\n",
              "        }#T_7ad9b024_a1a7_11eb_80fb_0242ac1c0002row1_col2{\n",
              "            width:  10em;\n",
              "             height:  80%;\n",
              "            background:  linear-gradient(90deg,#d65f5f 2.6%, transparent 2.6%);\n",
              "        }#T_7ad9b024_a1a7_11eb_80fb_0242ac1c0002row2_col2{\n",
              "            width:  10em;\n",
              "             height:  80%;\n",
              "            background:  linear-gradient(90deg,#d65f5f 100.0%, transparent 100.0%);\n",
              "        }#T_7ad9b024_a1a7_11eb_80fb_0242ac1c0002row3_col2{\n",
              "            width:  10em;\n",
              "             height:  80%;\n",
              "            background:  linear-gradient(90deg,#d65f5f 13.1%, transparent 13.1%);\n",
              "        }#T_7ad9b024_a1a7_11eb_80fb_0242ac1c0002row4_col2{\n",
              "            width:  10em;\n",
              "             height:  80%;\n",
              "            background:  linear-gradient(90deg,#d65f5f 82.1%, transparent 82.1%);\n",
              "        }#T_7ad9b024_a1a7_11eb_80fb_0242ac1c0002row5_col2{\n",
              "            width:  10em;\n",
              "             height:  80%;\n",
              "            background:  linear-gradient(90deg,#d65f5f 21.0%, transparent 21.0%);\n",
              "        }#T_7ad9b024_a1a7_11eb_80fb_0242ac1c0002row6_col2{\n",
              "            width:  10em;\n",
              "             height:  80%;\n",
              "            background:  linear-gradient(90deg,#d65f5f 43.7%, transparent 43.7%);\n",
              "        }#T_7ad9b024_a1a7_11eb_80fb_0242ac1c0002row7_col2{\n",
              "            width:  10em;\n",
              "             height:  80%;\n",
              "            background:  linear-gradient(90deg,#d65f5f 16.9%, transparent 16.9%);\n",
              "        }#T_7ad9b024_a1a7_11eb_80fb_0242ac1c0002row8_col2{\n",
              "            width:  10em;\n",
              "             height:  80%;\n",
              "            background:  linear-gradient(90deg,#d65f5f 18.3%, transparent 18.3%);\n",
              "        }#T_7ad9b024_a1a7_11eb_80fb_0242ac1c0002row9_col2{\n",
              "            width:  10em;\n",
              "             height:  80%;\n",
              "            background:  linear-gradient(90deg,#d65f5f 10.3%, transparent 10.3%);\n",
              "        }#T_7ad9b024_a1a7_11eb_80fb_0242ac1c0002row10_col2{\n",
              "            width:  10em;\n",
              "             height:  80%;\n",
              "            background:  linear-gradient(90deg,#d65f5f 5.3%, transparent 5.3%);\n",
              "        }#T_7ad9b024_a1a7_11eb_80fb_0242ac1c0002row11_col2{\n",
              "            width:  10em;\n",
              "             height:  80%;\n",
              "            background:  linear-gradient(90deg,#d65f5f 3.6%, transparent 3.6%);\n",
              "        }#T_7ad9b024_a1a7_11eb_80fb_0242ac1c0002row12_col2{\n",
              "            width:  10em;\n",
              "             height:  80%;\n",
              "            background:  linear-gradient(90deg,#d65f5f 0.1%, transparent 0.1%);\n",
              "        }#T_7ad9b024_a1a7_11eb_80fb_0242ac1c0002row13_col2{\n",
              "            width:  10em;\n",
              "             height:  80%;\n",
              "        }</style><table id=\"T_7ad9b024_a1a7_11eb_80fb_0242ac1c0002\" ><thead>    <tr>        <th class=\"col_heading level0 col0\" >grade</th>        <th class=\"col_heading level0 col1\" >loan_status</th>        <th class=\"col_heading level0 col2\" >count</th>    </tr></thead><tbody>\n",
              "                <tr>\n",
              "                                <td id=\"T_7ad9b024_a1a7_11eb_80fb_0242ac1c0002row0_col0\" class=\"data row0 col0\" >A</td>\n",
              "                        <td id=\"T_7ad9b024_a1a7_11eb_80fb_0242ac1c0002row0_col1\" class=\"data row0 col1\" >Fully Paid</td>\n",
              "                        <td id=\"T_7ad9b024_a1a7_11eb_80fb_0242ac1c0002row0_col2\" class=\"data row0 col2\" >60151</td>\n",
              "            </tr>\n",
              "            <tr>\n",
              "                                <td id=\"T_7ad9b024_a1a7_11eb_80fb_0242ac1c0002row1_col0\" class=\"data row1 col0\" >A</td>\n",
              "                        <td id=\"T_7ad9b024_a1a7_11eb_80fb_0242ac1c0002row1_col1\" class=\"data row1 col1\" >Charged Off</td>\n",
              "                        <td id=\"T_7ad9b024_a1a7_11eb_80fb_0242ac1c0002row1_col2\" class=\"data row1 col2\" >4036</td>\n",
              "            </tr>\n",
              "            <tr>\n",
              "                                <td id=\"T_7ad9b024_a1a7_11eb_80fb_0242ac1c0002row2_col0\" class=\"data row2 col0\" >B</td>\n",
              "                        <td id=\"T_7ad9b024_a1a7_11eb_80fb_0242ac1c0002row2_col1\" class=\"data row2 col1\" >Fully Paid</td>\n",
              "                        <td id=\"T_7ad9b024_a1a7_11eb_80fb_0242ac1c0002row2_col2\" class=\"data row2 col2\" >101431</td>\n",
              "            </tr>\n",
              "            <tr>\n",
              "                                <td id=\"T_7ad9b024_a1a7_11eb_80fb_0242ac1c0002row3_col0\" class=\"data row3 col0\" >B</td>\n",
              "                        <td id=\"T_7ad9b024_a1a7_11eb_80fb_0242ac1c0002row3_col1\" class=\"data row3 col1\" >Charged Off</td>\n",
              "                        <td id=\"T_7ad9b024_a1a7_11eb_80fb_0242ac1c0002row3_col2\" class=\"data row3 col2\" >14587</td>\n",
              "            </tr>\n",
              "            <tr>\n",
              "                                <td id=\"T_7ad9b024_a1a7_11eb_80fb_0242ac1c0002row4_col0\" class=\"data row4 col0\" >C</td>\n",
              "                        <td id=\"T_7ad9b024_a1a7_11eb_80fb_0242ac1c0002row4_col1\" class=\"data row4 col1\" >Fully Paid</td>\n",
              "                        <td id=\"T_7ad9b024_a1a7_11eb_80fb_0242ac1c0002row4_col2\" class=\"data row4 col2\" >83538</td>\n",
              "            </tr>\n",
              "            <tr>\n",
              "                                <td id=\"T_7ad9b024_a1a7_11eb_80fb_0242ac1c0002row5_col0\" class=\"data row5 col0\" >C</td>\n",
              "                        <td id=\"T_7ad9b024_a1a7_11eb_80fb_0242ac1c0002row5_col1\" class=\"data row5 col1\" >Charged Off</td>\n",
              "                        <td id=\"T_7ad9b024_a1a7_11eb_80fb_0242ac1c0002row5_col2\" class=\"data row5 col2\" >22449</td>\n",
              "            </tr>\n",
              "            <tr>\n",
              "                                <td id=\"T_7ad9b024_a1a7_11eb_80fb_0242ac1c0002row6_col0\" class=\"data row6 col0\" >D</td>\n",
              "                        <td id=\"T_7ad9b024_a1a7_11eb_80fb_0242ac1c0002row6_col1\" class=\"data row6 col1\" >Fully Paid</td>\n",
              "                        <td id=\"T_7ad9b024_a1a7_11eb_80fb_0242ac1c0002row6_col2\" class=\"data row6 col2\" >45186</td>\n",
              "            </tr>\n",
              "            <tr>\n",
              "                                <td id=\"T_7ad9b024_a1a7_11eb_80fb_0242ac1c0002row7_col0\" class=\"data row7 col0\" >D</td>\n",
              "                        <td id=\"T_7ad9b024_a1a7_11eb_80fb_0242ac1c0002row7_col1\" class=\"data row7 col1\" >Charged Off</td>\n",
              "                        <td id=\"T_7ad9b024_a1a7_11eb_80fb_0242ac1c0002row7_col2\" class=\"data row7 col2\" >18338</td>\n",
              "            </tr>\n",
              "            <tr>\n",
              "                                <td id=\"T_7ad9b024_a1a7_11eb_80fb_0242ac1c0002row8_col0\" class=\"data row8 col0\" >E</td>\n",
              "                        <td id=\"T_7ad9b024_a1a7_11eb_80fb_0242ac1c0002row8_col1\" class=\"data row8 col1\" >Fully Paid</td>\n",
              "                        <td id=\"T_7ad9b024_a1a7_11eb_80fb_0242ac1c0002row8_col2\" class=\"data row8 col2\" >19723</td>\n",
              "            </tr>\n",
              "            <tr>\n",
              "                                <td id=\"T_7ad9b024_a1a7_11eb_80fb_0242ac1c0002row9_col0\" class=\"data row9 col0\" >E</td>\n",
              "                        <td id=\"T_7ad9b024_a1a7_11eb_80fb_0242ac1c0002row9_col1\" class=\"data row9 col1\" >Charged Off</td>\n",
              "                        <td id=\"T_7ad9b024_a1a7_11eb_80fb_0242ac1c0002row9_col2\" class=\"data row9 col2\" >11765</td>\n",
              "            </tr>\n",
              "            <tr>\n",
              "                                <td id=\"T_7ad9b024_a1a7_11eb_80fb_0242ac1c0002row10_col0\" class=\"data row10 col0\" >F</td>\n",
              "                        <td id=\"T_7ad9b024_a1a7_11eb_80fb_0242ac1c0002row10_col1\" class=\"data row10 col1\" >Fully Paid</td>\n",
              "                        <td id=\"T_7ad9b024_a1a7_11eb_80fb_0242ac1c0002row10_col2\" class=\"data row10 col2\" >6735</td>\n",
              "            </tr>\n",
              "            <tr>\n",
              "                                <td id=\"T_7ad9b024_a1a7_11eb_80fb_0242ac1c0002row11_col0\" class=\"data row11 col0\" >F</td>\n",
              "                        <td id=\"T_7ad9b024_a1a7_11eb_80fb_0242ac1c0002row11_col1\" class=\"data row11 col1\" >Charged Off</td>\n",
              "                        <td id=\"T_7ad9b024_a1a7_11eb_80fb_0242ac1c0002row11_col2\" class=\"data row11 col2\" >5037</td>\n",
              "            </tr>\n",
              "            <tr>\n",
              "                                <td id=\"T_7ad9b024_a1a7_11eb_80fb_0242ac1c0002row12_col0\" class=\"data row12 col0\" >G</td>\n",
              "                        <td id=\"T_7ad9b024_a1a7_11eb_80fb_0242ac1c0002row12_col1\" class=\"data row12 col1\" >Fully Paid</td>\n",
              "                        <td id=\"T_7ad9b024_a1a7_11eb_80fb_0242ac1c0002row12_col2\" class=\"data row12 col2\" >1593</td>\n",
              "            </tr>\n",
              "            <tr>\n",
              "                                <td id=\"T_7ad9b024_a1a7_11eb_80fb_0242ac1c0002row13_col0\" class=\"data row13 col0\" >G</td>\n",
              "                        <td id=\"T_7ad9b024_a1a7_11eb_80fb_0242ac1c0002row13_col1\" class=\"data row13 col1\" >Charged Off</td>\n",
              "                        <td id=\"T_7ad9b024_a1a7_11eb_80fb_0242ac1c0002row13_col2\" class=\"data row13 col2\" >1461</td>\n",
              "            </tr>\n",
              "    </tbody></table>"
            ],
            "text/plain": [
              "<pandas.io.formats.style.Styler at 0x7f3b5fc309d0>"
            ]
          },
          "metadata": {
            "tags": []
          },
          "execution_count": 146
        }
      ]
    },
    {
      "cell_type": "code",
      "metadata": {
        "colab": {
          "base_uri": "https://localhost:8080/",
          "height": 352
        },
        "id": "DCzIQyXs4Q-X",
        "outputId": "cc0bb295-b6fa-439c-f3af-40b88921dbea"
      },
      "source": [
        "plt.figure(figsize=(12,5))\n",
        "sns.countplot(x='sub_grade',data=df.sort_values(by='sub_grade'),palette='coolwarm')"
      ],
      "execution_count": null,
      "outputs": [
        {
          "output_type": "execute_result",
          "data": {
            "text/plain": [
              "<matplotlib.axes._subplots.AxesSubplot at 0x7f3b5f50fb10>"
            ]
          },
          "metadata": {
            "tags": []
          },
          "execution_count": 158
        },
        {
          "output_type": "display_data",
          "data": {
            "image/png": "[encoded data removed]",
            "text/plain": [
              "<Figure size 864x360 with 1 Axes>"
            ]
          },
          "metadata": {
            "tags": [],
            "needs_background": "light"
          }
        }
      ]
    },
    {
      "cell_type": "code",
      "metadata": {
        "colab": {
          "base_uri": "https://localhost:8080/",
          "height": 352
        },
        "id": "U40FeFu94RPr",
        "outputId": "67a523d4-4fa4-477b-81d1-b316827284cb"
      },
      "source": [
        "plt.figure(figsize=(12,5))\n",
        "sns.countplot(x='sub_grade',hue='loan_status',data=df.sort_values(by='sub_grade'),palette='coolwarm')"
      ],
      "execution_count": null,
      "outputs": [
        {
          "output_type": "execute_result",
          "data": {
            "text/plain": [
              "<matplotlib.axes._subplots.AxesSubplot at 0x7f3b5f8d09d0>"
            ]
          },
          "metadata": {
            "tags": []
          },
          "execution_count": 160
        },
        {
          "output_type": "display_data",
          "data": {
            "image/png": "[encoded data removed]",
            "text/plain": [
              "<Figure size 864x360 with 1 Axes>"
            ]
          },
          "metadata": {
            "tags": [],
            "needs_background": "light"
          }
        }
      ]
    },
    {
      "cell_type": "code",
      "metadata": {
        "colab": {
          "base_uri": "https://localhost:8080/",
          "height": 352
        },
        "id": "xa1hewxo4Rdy",
        "outputId": "4cb21ed8-5eda-40ad-83e6-77b5ce6a0c40"
      },
      "source": [
        "plt.figure(figsize=(12,5))\n",
        "sns.countplot(x='sub_grade',hue='loan_status',data=df[df.sub_grade.str.contains('F')|df.sub_grade.str.contains('G')].sort_values(by='sub_grade'))"
      ],
      "execution_count": null,
      "outputs": [
        {
          "output_type": "execute_result",
          "data": {
            "text/plain": [
              "<matplotlib.axes._subplots.AxesSubplot at 0x7f3b5f23d1d0>"
            ]
          },
          "metadata": {
            "tags": []
          },
          "execution_count": 161
        },
        {
          "output_type": "display_data",
          "data": {
            "image/png": "[encoded data removed]",
            "text/plain": [
              "<Figure size 864x360 with 1 Axes>"
            ]
          },
          "metadata": {
            "tags": [],
            "needs_background": "light"
          }
        }
      ]
    },
    {
      "cell_type": "code",
      "metadata": {
        "id": "IdrfROJ15L4j"
      },
      "source": [
        "df['loan_repaid'] = df['loan_status'].apply(lambda x: 1 if x == 'Fully Paid' else 0)"
      ],
      "execution_count": null,
      "outputs": []
    },
    {
      "cell_type": "code",
      "metadata": {
        "id": "9udH98oW5S6q"
      },
      "source": [
        "df[['loan_repaid','loan_status']]"
      ],
      "execution_count": null,
      "outputs": []
    },
    {
      "cell_type": "code",
      "metadata": {
        "id": "mnTkOOr85TLO"
      },
      "source": [
        "df.corr()['loan_repaid'][:-1].sort_values().plot(kind='bar')"
      ],
      "execution_count": null,
      "outputs": []
    }
  ]
}